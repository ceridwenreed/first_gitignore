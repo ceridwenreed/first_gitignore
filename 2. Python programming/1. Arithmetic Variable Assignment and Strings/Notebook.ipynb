{
  "nbformat": 4,
  "nbformat_minor": 0,
  "metadata": {
    "interpreter": {
      "hash": "3d597f4c481aa0f25dceb95d2a0067e73c0966dcbd003d741d821a7208527ecf"
    },
    "kernelspec": {
      "display_name": "Python 3.9.1 64-bit ('base': conda)",
      "name": "python3"
    },
    "language_info": {
      "codemirror_mode": {
        "name": "ipython",
        "version": 3
      },
      "file_extension": ".py",
      "mimetype": "text/x-python",
      "name": "python",
      "nbconvert_exporter": "python",
      "pygments_lexer": "ipython3",
      "version": "3.9.1"
    },
    "colab": {
      "name": "Notebook.ipynb",
      "provenance": []
    }
  },
  "cells": [
    {
      "cell_type": "markdown",
      "metadata": {
        "id": "8oOnxNuOSwfa"
      },
      "source": [
        "# 1. Arithmetic, Variable Assignment and Strings"
      ]
    },
    {
      "cell_type": "markdown",
      "metadata": {
        "id": "IEZnkjYiSwfg"
      },
      "source": [
        "## Prerequisites\n",
        "- Enthusiasm for and determination to learn Python for Data Science.\n",
        "- Patience... lots of patience: this is essential for learning anything, but especially coding, where literally nothing will ever go right first time.\n",
        "\n",
        "## Learning objectives\n",
        "- Understand the difference between integers and floats.\n",
        "- Understand the difference between None and int 0.\n",
        "- Know how to use Python as a calculator.\n",
        "- Know how to assign variables, and variable naming conventions.\n",
        "- Understand strings and some basic string methods including .format().\n",
        "- Know how to perform indexing and slicing."
      ]
    },
    {
      "cell_type": "markdown",
      "metadata": {
        "id": "5mCTdouFSwfh"
      },
      "source": [
        "# Introduction"
      ]
    },
    {
      "cell_type": "markdown",
      "metadata": {
        "id": "17z0AjDiSwfj"
      },
      "source": [
        "## What is Python?\n",
        "- A coding language: a system of rules that can be used to operate a computer.\n",
        "- Dynamically typed (we will go into detail later).\n",
        "- Can have many uses (networks, games, graphics, apps).\n",
        "- We are focusing on data science applications of Python.\n",
        "- Python can be used for the whole data pipeline, from data input to model validation."
      ]
    },
    {
      "cell_type": "markdown",
      "metadata": {
        "id": "3ugui0bfSwfj"
      },
      "source": [
        "## What is an IDE?\n",
        "- Integrated Development Environment: a place to write programs in a language.\n",
        "- Most famous for Python are PyCharm and Jupyter Notebook (also Spyder).\n",
        "- We will use Jupyter Notebook (advantages/drawbacks will be clear over time).\n",
        "- Jupyter Notebook works using cells.\n",
        "- You input your code into each cell and then run the code per cell.\n",
        "- Each cell acts as a 'mini-script' which can be executed independently of other cells.\n",
        "- The file type of a Jupyter Notebook is a __.ipynb file__ (IPython NoteBook).\n",
        "- .ipynb files cannot be opened directly by any program on your computer; rather, you have to open Jupyter Notebook first and then open the file from inside it. This is due to the structure of the file (too complicated to cover here).\n",
        "- The other common type of Python file is a .py script: this is a single file written usually in a text editor, and when it is executed, the entirety of the code runs in one go, rather than individual blocks.\n",
        "- .py scripts can be opened using any text editor including TextEdit on Mac or the equivalent on Windows (also other text editors)."
      ]
    },
    {
      "cell_type": "markdown",
      "metadata": {
        "id": "AbcDFot0Swfl"
      },
      "source": [
        "## Jupyter Notebook\n",
        "- Has many keyboard shortcuts, you will get used to them.\n",
        "- Use Esc key to use shortcuts: use Esc + H to find a list.\n",
        "- 2 main types of cell:\n",
        "    - Code: this is self-explanatory.\n",
        "    - Markdown: used to write explanatory text/titles etc in a notebook."
      ]
    },
    {
      "cell_type": "markdown",
      "metadata": {
        "id": "VY_mTAJMSwfm"
      },
      "source": [
        "## Comments\n",
        "- A comment is a piece of text added to code to explain it and make it easier to understand for anyone reading who isn't the author.\n",
        "- \\# at the start of a line indicates that a line is a comment in a code cell.\n",
        "- There are 2 schools of thought on comments: some argue that comments should be used extensively, others argue they should be minimal as the code should be self-explanatory.\n",
        "- Do not be afraid of adding quite a lot of comments at first; as you get better at coding you will begin to realise what requires a comment and what doesn't.\n",
        "- Remember __readability and reproducibility are paramount__. Use this to guide your usage of comments."
      ]
    },
    {
      "cell_type": "markdown",
      "metadata": {
        "id": "i0OSXcGbSwfm"
      },
      "source": [
        "## Data Types in Python\n",
        "Python can take in many data types, these include:\n",
        "- Integers (int).\n",
        "- Floating Point Numbers (float).\n",
        "- Strings (str).\n",
        "- Lists (list).\n",
        "- Dictionaries (dict).\n",
        "- Tuples (tuple).\n",
        "- Sets (set).\n",
        "- Booleans (bool)."
      ]
    },
    {
      "cell_type": "markdown",
      "metadata": {
        "id": "X4jF50XpSwfn"
      },
      "source": [
        "## Numbers in Python\n",
        "- Numbers in Python are of two types: \n",
        "    - Integers (int).\n",
        "    - Floating-point numbers (float).\n",
        "- Put simply: \n",
        "    - An integer is an integer.\n",
        "    - A floating-point number is any number with a decimal point.\n",
        "- The only catch with floating-point numbers is that due to the nature of floating-point calculations, they are not exactly what you expect them to be, and hence it is often better to round them."
      ]
    },
    {
      "cell_type": "markdown",
      "metadata": {
        "id": "QLV04w0TSwfp"
      },
      "source": [
        "## Arithmetic in Python\n",
        "- Arithmetic is fairly simple: we use the standard operators: \n",
        "### / * + - <br>\n",
        "- Python will follow Order of Operations (BIDMAS).\n",
        "- We use double asterisk __\\*\\*__ for powers (roots are just fractional powers).\n",
        "- Division always returns a floating-point number.\n",
        "- There are a couple of special operations:\n",
        "    - Modulo (x%y) gives the remainder of dividing x by y.\n",
        "    - Floor division (x//y) gives the result of dividing x by y rounded down to the nearest integer.\n",
        "- When using arithmetic operators, leave one space either side by convention, unless not leaving a space makes it clearer."
      ]
    },
    {
      "cell_type": "code",
      "metadata": {
        "id": "PtMVKPy4Swfq",
        "outputId": "6d822dec-5bdd-4b5f-dd24-49683c094af6"
      },
      "source": [
        "# Addition\n",
        "2 + 1"
      ],
      "execution_count": null,
      "outputs": [
        {
          "data": {
            "text/plain": [
              "3"
            ]
          },
          "execution_count": 3,
          "metadata": {},
          "output_type": "execute_result"
        }
      ]
    },
    {
      "cell_type": "code",
      "metadata": {
        "id": "5FgLONYNSwfs",
        "outputId": "5ae662d5-f628-4af7-cbd3-f6164c8f3df3"
      },
      "source": [
        "# Subtraction\n",
        "2 - 1"
      ],
      "execution_count": null,
      "outputs": [
        {
          "data": {
            "text/plain": [
              "1"
            ]
          },
          "execution_count": 4,
          "metadata": {},
          "output_type": "execute_result"
        }
      ]
    },
    {
      "cell_type": "code",
      "metadata": {
        "id": "R8ciCI0OSwft",
        "outputId": "83212270-93b9-428c-dbcf-8f73236ef5c8"
      },
      "source": [
        "# Multiplication\n",
        "2 * 2"
      ],
      "execution_count": null,
      "outputs": [
        {
          "data": {
            "text/plain": [
              "4"
            ]
          },
          "execution_count": 5,
          "metadata": {},
          "output_type": "execute_result"
        }
      ]
    },
    {
      "cell_type": "code",
      "metadata": {
        "id": "vurZYnVPSwfu",
        "outputId": "0843f428-11c4-4e8e-80c7-3d4fc816157e"
      },
      "source": [
        "# Division\n",
        "10 / 1"
      ],
      "execution_count": null,
      "outputs": [
        {
          "data": {
            "text/plain": [
              "10.0"
            ]
          },
          "execution_count": 1,
          "metadata": {},
          "output_type": "execute_result"
        }
      ]
    },
    {
      "cell_type": "markdown",
      "metadata": {
        "id": "-h3HfYeASwfu"
      },
      "source": [
        "# Floor Division\n",
        "7 // 4"
      ]
    },
    {
      "cell_type": "code",
      "metadata": {
        "id": "rgYGk0DWSwfv",
        "outputId": "2db77eda-af17-40d7-e1d2-1bdc66bf04bb"
      },
      "source": [
        "# Modulo\n",
        "7 % 4"
      ],
      "execution_count": null,
      "outputs": [
        {
          "data": {
            "text/plain": [
              "3"
            ]
          },
          "execution_count": 7,
          "metadata": {},
          "output_type": "execute_result"
        }
      ]
    },
    {
      "cell_type": "code",
      "metadata": {
        "id": "m7mAuggGSwfv",
        "outputId": "8ec68a07-8be9-458c-c0e8-2754c1b95e2c"
      },
      "source": [
        "# If modulo 2 of a number is equal to zero, the number is even\n",
        "6 % 2"
      ],
      "execution_count": null,
      "outputs": [
        {
          "data": {
            "text/plain": [
              "0"
            ]
          },
          "execution_count": 8,
          "metadata": {},
          "output_type": "execute_result"
        }
      ]
    },
    {
      "cell_type": "code",
      "metadata": {
        "id": "fBMCYMj0Swfx",
        "outputId": "bbb5f402-c17d-4bf0-e154-198d7a438fdd"
      },
      "source": [
        "# Powers\n",
        "2 ** 3"
      ],
      "execution_count": null,
      "outputs": [
        {
          "data": {
            "text/plain": [
              "8"
            ]
          },
          "execution_count": 9,
          "metadata": {},
          "output_type": "execute_result"
        }
      ]
    },
    {
      "cell_type": "code",
      "metadata": {
        "id": "LPT-5EJ9Swfx",
        "outputId": "c1e2afdb-7123-4674-bac4-dd734eff7036"
      },
      "source": [
        "# Can also do roots this way\n",
        "4 ** 0.5"
      ],
      "execution_count": null,
      "outputs": [
        {
          "data": {
            "text/plain": [
              "2.0"
            ]
          },
          "execution_count": 11,
          "metadata": {},
          "output_type": "execute_result"
        }
      ]
    },
    {
      "cell_type": "code",
      "metadata": {
        "id": "ogxaSY2DSwfy",
        "outputId": "c9c95add-3531-4409-d769-eda3a4e2b5d5"
      },
      "source": [
        "# Order of Operations followed in Python\n",
        "(2 + 10) * 10 + 3"
      ],
      "execution_count": null,
      "outputs": [
        {
          "data": {
            "text/plain": [
              "123"
            ]
          },
          "execution_count": 13,
          "metadata": {},
          "output_type": "execute_result"
        }
      ]
    },
    {
      "cell_type": "code",
      "metadata": {
        "id": "umBSbQqFSwfy",
        "outputId": "f7be3aa5-3093-4b1c-cdcc-31805cc383bd"
      },
      "source": [
        "# Can use parentheses to specify orders\n",
        "(2 + 10) * (10 + 3)"
      ],
      "execution_count": null,
      "outputs": [
        {
          "data": {
            "text/plain": [
              "156"
            ]
          },
          "execution_count": 10,
          "metadata": {},
          "output_type": "execute_result"
        }
      ]
    },
    {
      "cell_type": "code",
      "metadata": {
        "id": "8-2ENxapSwfz",
        "outputId": "89fa17c6-a44e-4582-f977-2e4ce156a011"
      },
      "source": [
        "# use round(expression, decimal_places) to give rounded answer\n",
        "round(10/3, 4)"
      ],
      "execution_count": null,
      "outputs": [
        {
          "data": {
            "text/plain": [
              "3.3333"
            ]
          },
          "execution_count": 20,
          "metadata": {},
          "output_type": "execute_result"
        }
      ]
    },
    {
      "cell_type": "markdown",
      "metadata": {
        "id": "lf1lppd6Swfz"
      },
      "source": [
        "### NoneType\n",
        "- We must distinguish between None and 0 here.\n",
        "- None has data type 'NoneType' and is therefore a not a value (can use as placeholder before adding values).\n",
        "- 0 is an integer, and therefore a value, this shows that we have a value, but the value is the integer 0.\n",
        "- We can see this clearly when we check the types of each"
      ]
    },
    {
      "cell_type": "code",
      "metadata": {
        "id": "9th8Eh6ZSwf1",
        "outputId": "70acd9c4-8bc6-41e7-d36d-77ce98b42781"
      },
      "source": [
        "type(None)"
      ],
      "execution_count": null,
      "outputs": [
        {
          "data": {
            "text/plain": [
              "NoneType"
            ]
          },
          "execution_count": 21,
          "metadata": {},
          "output_type": "execute_result"
        }
      ]
    },
    {
      "cell_type": "code",
      "metadata": {
        "id": "WxDxmLdsSwf1",
        "outputId": "40a24375-c936-427a-ce60-72c478d8c71c"
      },
      "source": [
        "type(0)"
      ],
      "execution_count": null,
      "outputs": [
        {
          "data": {
            "text/plain": [
              "int"
            ]
          },
          "execution_count": 146,
          "metadata": {},
          "output_type": "execute_result"
        }
      ]
    },
    {
      "cell_type": "code",
      "metadata": {
        "id": "HVHhHtUTSwf2",
        "outputId": "93709020-e4e0-4568-e5c6-529defde0a87"
      },
      "source": [
        "# 0 + 1 works as they are both numbers\n",
        "0 + 1"
      ],
      "execution_count": null,
      "outputs": [
        {
          "data": {
            "text/plain": [
              "1"
            ]
          },
          "execution_count": 24,
          "metadata": {},
          "output_type": "execute_result"
        }
      ]
    },
    {
      "cell_type": "code",
      "metadata": {
        "id": "5wElxamMSwf2",
        "outputId": "48a4575f-4db6-44b1-c648-dfd0af848b88"
      },
      "source": [
        "# None + 1 throws an error, as None means there is nothing there\n",
        "None + 1"
      ],
      "execution_count": null,
      "outputs": [
        {
          "ename": "TypeError",
          "evalue": "unsupported operand type(s) for +: 'NoneType' and 'int'",
          "output_type": "error",
          "traceback": [
            "\u001b[0;31m---------------------------------------------------------------------------\u001b[0m",
            "\u001b[0;31mTypeError\u001b[0m                                 Traceback (most recent call last)",
            "\u001b[0;32m<ipython-input-27-b381659935a9>\u001b[0m in \u001b[0;36m<module>\u001b[0;34m\u001b[0m\n\u001b[1;32m      1\u001b[0m \u001b[0;31m# None + 1 throws an error, as None means there is nothing there\u001b[0m\u001b[0;34m\u001b[0m\u001b[0;34m\u001b[0m\u001b[0;34m\u001b[0m\u001b[0m\n\u001b[0;32m----> 2\u001b[0;31m \u001b[0;32mNone\u001b[0m \u001b[0;34m+\u001b[0m \u001b[0;36m1\u001b[0m\u001b[0;34m\u001b[0m\u001b[0;34m\u001b[0m\u001b[0m\n\u001b[0m",
            "\u001b[0;31mTypeError\u001b[0m: unsupported operand type(s) for +: 'NoneType' and 'int'"
          ]
        }
      ]
    },
    {
      "cell_type": "code",
      "metadata": {
        "id": "11Os3eX5Swf3"
      },
      "source": [
        ""
      ],
      "execution_count": null,
      "outputs": []
    },
    {
      "cell_type": "markdown",
      "metadata": {
        "id": "U1goLQSUSwf3"
      },
      "source": [
        "## Numbers Exercises\n",
        "- Click on the markdown cells where it says \"Answer here\" to type inside them.\n",
        "- Add your code to the commented cells saying \"CODE HERE\"."
      ]
    },
    {
      "cell_type": "markdown",
      "metadata": {
        "id": "GCs3-2wUSwf3"
      },
      "source": [
        "### Question 1:\n",
        "What is the difference between an integer and a floating-point number?"
      ]
    },
    {
      "cell_type": "markdown",
      "metadata": {
        "id": "mb3J4Pn6Swf3"
      },
      "source": [
        "Integers are numbers without decimal points, whereas floats are numbers with decimal points. Python prints a decimal approximation to the true decimal value of the binary approximation stored by the machine."
      ]
    },
    {
      "cell_type": "markdown",
      "metadata": {
        "id": "i2q7zq64Swf4"
      },
      "source": [
        "### Question 2:\n",
        "Write an expression using addition & subtraction & multiplication & division that is equal to 1044.75"
      ]
    },
    {
      "cell_type": "code",
      "metadata": {
        "id": "ptxgqEaGSwf4",
        "outputId": "b510a57b-d380-4818-efec-aea412a09d60",
        "colab": {
          "base_uri": "https://localhost:8080/"
        }
      },
      "source": [
        "(4000+((99.5-10)*2))/4"
      ],
      "execution_count": 6,
      "outputs": [
        {
          "output_type": "execute_result",
          "data": {
            "text/plain": [
              "1044.75"
            ]
          },
          "metadata": {},
          "execution_count": 6
        }
      ]
    },
    {
      "cell_type": "markdown",
      "metadata": {
        "id": "fvSCZ7UrSwf4"
      },
      "source": [
        "### Question 3:\n",
        "What is the modulo operator and name one function of it?"
      ]
    },
    {
      "cell_type": "markdown",
      "metadata": {
        "id": "so59k5A-Swf5"
      },
      "source": [
        "The modulus operator works on integers and gives the remainder when the first operand is divided by the second"
      ]
    },
    {
      "cell_type": "code",
      "metadata": {
        "id": "cvcaJLL9Swf5",
        "outputId": "d32d877e-f508-4c0a-b671-d514071bbb95",
        "colab": {
          "base_uri": "https://localhost:8080/"
        }
      },
      "source": [
        "12 % 5"
      ],
      "execution_count": 3,
      "outputs": [
        {
          "output_type": "execute_result",
          "data": {
            "text/plain": [
              "2"
            ]
          },
          "metadata": {},
          "execution_count": 3
        }
      ]
    },
    {
      "cell_type": "markdown",
      "metadata": {
        "id": "6KyNNzKtSwf5"
      },
      "source": [
        "### Question 4:\n",
        "What is the difference between normal and floor division?"
      ]
    },
    {
      "cell_type": "code",
      "metadata": {
        "id": "ABuPIcb4Swf6",
        "outputId": "dcb1e32f-3c61-4f1b-e433-396f9d1e7164"
      },
      "source": [
        "4/3"
      ],
      "execution_count": null,
      "outputs": [
        {
          "data": {
            "text/plain": [
              "1.3333333333333333"
            ]
          },
          "execution_count": 33,
          "metadata": {},
          "output_type": "execute_result"
        }
      ]
    },
    {
      "cell_type": "code",
      "metadata": {
        "id": "6ftwz39YSwf6",
        "outputId": "4f40c5f3-7123-473f-872f-05b1836d9d13"
      },
      "source": [
        "4 // 3\n"
      ],
      "execution_count": null,
      "outputs": [
        {
          "data": {
            "text/plain": [
              "1"
            ]
          },
          "execution_count": 34,
          "metadata": {},
          "output_type": "execute_result"
        }
      ]
    },
    {
      "cell_type": "markdown",
      "metadata": {
        "id": "o1FfUWcKSwf6"
      },
      "source": [
        "Floor division is a normal division operation except that it returns the largest possible integer. This integer is either less than or equal to the normal division result. "
      ]
    },
    {
      "cell_type": "markdown",
      "metadata": {
        "id": "FcfkJzlRSwf7"
      },
      "source": [
        "### Question 5:\n",
        "What is 1 \\+ 2 \\* 3 \\- 4 / 6(6 \\+ 7) \\* 8 \\*\\* 9?"
      ]
    },
    {
      "cell_type": "code",
      "metadata": {
        "id": "_GhMLeM8Swf7",
        "outputId": "e353258a-49a4-4521-c0af-8bd39c3a0f94",
        "colab": {
          "base_uri": "https://localhost:8080/"
        }
      },
      "source": [
        "(1+(2*3)) - ((4/6)*(6+7)*(8**9))"
      ],
      "execution_count": 11,
      "outputs": [
        {
          "output_type": "execute_result",
          "data": {
            "text/plain": [
              "-1163220302.3333333"
            ]
          },
          "metadata": {},
          "execution_count": 11
        }
      ]
    },
    {
      "cell_type": "markdown",
      "metadata": {
        "id": "G832I-ObSwf7"
      },
      "source": [
        "## Variable Assignment\n",
        "- Often we want to use the same object repeatedly, and hence rather than defining it repeatedly in code we can assign a variable which we use instead.\n",
        "- This concept is called DRY coding (Don't Repeat Yourself): we will see many examples of this throughout.\n",
        "- We assign variables by using the equals sign __=__ in Python\n",
        "- Variables are named using the following guidelines:"
      ]
    },
    {
      "cell_type": "code",
      "metadata": {
        "id": "A6WKQT1ISwf8",
        "outputId": "f7620a4a-0375-4c13-eccb-b4e9e44d6fcb"
      },
      "source": [
        "x + 1 = y"
      ],
      "execution_count": null,
      "outputs": [
        {
          "ename": "SyntaxError",
          "evalue": "cannot assign to operator (<ipython-input-2-ae2623f81281>, line 1)",
          "output_type": "error",
          "traceback": [
            "\u001b[0;36m  File \u001b[0;32m\"<ipython-input-2-ae2623f81281>\"\u001b[0;36m, line \u001b[0;32m1\u001b[0m\n\u001b[0;31m    x + 1 = y\u001b[0m\n\u001b[0m    ^\u001b[0m\n\u001b[0;31mSyntaxError\u001b[0m\u001b[0;31m:\u001b[0m cannot assign to operator\n"
          ]
        }
      ]
    },
    {
      "cell_type": "markdown",
      "metadata": {
        "id": "Q3WXHIGySwf8"
      },
      "source": [
        "## Variable Naming\n",
        "1. Use __snake_case__: all lowercase, no spaces, underscores \\_ instead.\n",
        "2. Names cannot start with a number or use these symbols: \n",
        "__\\: \\' \\\" \\, \\< \\> \\/ \\? \\| \\\\ \\( \\) \\! @ \\# \\$ \\% \\^ \\& \\* \\~ \\- \\+__\n",
        "3. Avoid using 'l' (lowercase l), 'O' (uppercase o), or 'I' (uppercase i) as single character names.\n",
        "4. Do __NOT__ use Python keywords (see below for a list of keywords).\n",
        "\n",
        "__If you reassign a Python keyword by accident, use Kernel --> Restart to reset everything back to normal.__ \n",
        "\n",
        "See PEP8 for further details in this [link](https://www.python.org/dev/peps/pep-0008/)"
      ]
    },
    {
      "cell_type": "code",
      "metadata": {
        "id": "LuIddaciSwf8",
        "outputId": "38baef81-d4e3-4a93-e78f-69334233e800"
      },
      "source": [
        "# List of keywords\n",
        "import keyword\n",
        "\n",
        "for i in keyword.kwlist:\n",
        "    print(i)"
      ],
      "execution_count": null,
      "outputs": [
        {
          "name": "stdout",
          "output_type": "stream",
          "text": [
            "False\n",
            "None\n",
            "True\n",
            "and\n",
            "as\n",
            "assert\n",
            "async\n",
            "await\n",
            "break\n",
            "class\n",
            "continue\n",
            "def\n",
            "del\n",
            "elif\n",
            "else\n",
            "except\n",
            "finally\n",
            "for\n",
            "from\n",
            "global\n",
            "if\n",
            "import\n",
            "in\n",
            "is\n",
            "lambda\n",
            "nonlocal\n",
            "not\n",
            "or\n",
            "pass\n",
            "raise\n",
            "return\n",
            "try\n",
            "while\n",
            "with\n",
            "yield\n"
          ]
        }
      ]
    },
    {
      "cell_type": "markdown",
      "metadata": {
        "id": "ySBXF5fFSwf8"
      },
      "source": [
        "Here we create an object named x (a variable) and give it the integer value 3. <br>\n",
        "The \\= sign assigns the value on the right to the object on the left:"
      ]
    },
    {
      "cell_type": "code",
      "metadata": {
        "id": "gDTujkXySwf9"
      },
      "source": [
        "x = 3"
      ],
      "execution_count": null,
      "outputs": []
    },
    {
      "cell_type": "markdown",
      "metadata": {
        "id": "aXCs2XVLSwf9"
      },
      "source": [
        "This is called calling the variable:"
      ]
    },
    {
      "cell_type": "code",
      "metadata": {
        "id": "ZipXy3M6Swf9",
        "outputId": "73440dc2-ee65-4a76-cfb7-e174411db757"
      },
      "source": [
        "x"
      ],
      "execution_count": null,
      "outputs": [
        {
          "data": {
            "text/plain": [
              "3"
            ]
          },
          "execution_count": 38,
          "metadata": {},
          "output_type": "execute_result"
        }
      ]
    },
    {
      "cell_type": "markdown",
      "metadata": {
        "id": "nVStbm04Swf-"
      },
      "source": [
        "Arithmetic done using variables uses the system of the underlying objects (differs between data types). <br>\n",
        "We will see how this works as we discover more data types:"
      ]
    },
    {
      "cell_type": "code",
      "metadata": {
        "id": "b8rfAX-uSwf-",
        "outputId": "b25a39ab-fa46-4e6b-d1cf-64ee5182d498"
      },
      "source": [
        "x + x"
      ],
      "execution_count": null,
      "outputs": [
        {
          "data": {
            "text/plain": [
              "6"
            ]
          },
          "execution_count": 39,
          "metadata": {},
          "output_type": "execute_result"
        }
      ]
    },
    {
      "cell_type": "markdown",
      "metadata": {
        "id": "5lXgmAJkSwf_"
      },
      "source": [
        "We can reassign x to be 10 with no errors: this is called reassignment and is an example of __'dynamic typing'__.<br>\n",
        "In a __'statically typed'__ language such as C, this would throw an error:"
      ]
    },
    {
      "cell_type": "code",
      "metadata": {
        "id": "sYGS4GP-Swf_"
      },
      "source": [
        "x = 10"
      ],
      "execution_count": null,
      "outputs": []
    },
    {
      "cell_type": "markdown",
      "metadata": {
        "id": "ylue9hVqSwf_"
      },
      "source": [
        "We can now see x has changed from 3 to 10:"
      ]
    },
    {
      "cell_type": "code",
      "metadata": {
        "id": "8rfa7d4OSwgA",
        "outputId": "801f840b-0e96-4628-add5-85ee91183f6a"
      },
      "source": [
        "x"
      ],
      "execution_count": null,
      "outputs": [
        {
          "data": {
            "text/plain": [
              "10"
            ]
          },
          "execution_count": 45,
          "metadata": {},
          "output_type": "execute_result"
        }
      ]
    },
    {
      "cell_type": "markdown",
      "metadata": {
        "id": "a7wfQeLrSwgA"
      },
      "source": [
        "#### A short note on the print() function\n",
        "- Before, we have just called the variable, now we see how to display it.\n",
        "- The print() function __displays__ the output rather than just returning it: in Jupyter Notebook this often makes no practical difference, but when working in other IDEs, you may not see the output unless you print it.\n",
        "- This becomes obvious when you want to see 2 things from a cell: Jupyter Notebook will __only show you the latest call__.\n",
        "- print() statements can be used to display multiple outputs.\n",
        "- We can specify the 'end' parameter inside the print() function to change how a print() statement ends.\n",
        "- e.g. __end = \"\\n\\n\" provides a new line after the print() output: this can be useful to make the output more readable__.\n",
        "- A blank print() statement also gives a new line."
      ]
    },
    {
      "cell_type": "code",
      "metadata": {
        "id": "zpb04COnSwgA",
        "outputId": "ca4e1278-c151-442c-cd20-068724e7d325"
      },
      "source": [
        "# assigning a and b\n",
        "a = 1\n",
        "b = 2\n",
        "\n",
        "# calling a and b\n",
        "a\n",
        "b"
      ],
      "execution_count": null,
      "outputs": [
        {
          "data": {
            "text/plain": [
              "2"
            ]
          },
          "execution_count": 46,
          "metadata": {},
          "output_type": "execute_result"
        }
      ]
    },
    {
      "cell_type": "code",
      "metadata": {
        "id": "yqh15xxCSwgB",
        "outputId": "4cf8b806-6cc9-459e-b26e-caa8fca581ad"
      },
      "source": [
        "# printing a and b\n",
        "print(a)\n",
        "print(b)"
      ],
      "execution_count": null,
      "outputs": [
        {
          "name": "stdout",
          "output_type": "stream",
          "text": [
            "1\n",
            "2\n"
          ]
        }
      ]
    },
    {
      "cell_type": "code",
      "metadata": {
        "id": "qVnVfyJ6SwgB",
        "outputId": "336b4633-f7b2-40f1-f029-106c5d691fb3"
      },
      "source": [
        "# using end to give a new line\n",
        "print(a, end=\"\\n\\n\")\n",
        "print(b)"
      ],
      "execution_count": null,
      "outputs": [
        {
          "name": "stdout",
          "output_type": "stream",
          "text": [
            "1\n",
            "\n",
            "2\n"
          ]
        }
      ]
    },
    {
      "cell_type": "code",
      "metadata": {
        "id": "Y1SUUKKvSwgB",
        "outputId": "901833d5-ad6b-4203-9fcd-45fbc6e8262d"
      },
      "source": [
        "# using a blank print statement to give a new line\n",
        "print(a)\n",
        "print()\n",
        "print(b)"
      ],
      "execution_count": null,
      "outputs": [
        {
          "name": "stdout",
          "output_type": "stream",
          "text": [
            "1\n",
            "\n",
            "2\n"
          ]
        }
      ]
    },
    {
      "cell_type": "markdown",
      "metadata": {
        "id": "7sI_z1BzSwgC"
      },
      "source": [
        "## Back to Variable Assignment...\n",
        "We can even redefine x using x itself. <br>\n",
        "Here, x is being __called__ on the right of the = sign, and being *redefined* on the left. <br>\n",
        "We can think of this as *new x* = __old x__ + __old x__ (*new x* = __10__ + __10__):"
      ]
    },
    {
      "cell_type": "code",
      "metadata": {
        "id": "pDMFAtslSwgC"
      },
      "source": [
        "x = x + x"
      ],
      "execution_count": 14,
      "outputs": []
    },
    {
      "cell_type": "markdown",
      "metadata": {
        "id": "fn-ehGexSwgD"
      },
      "source": [
        "x is now equal to 20:"
      ]
    },
    {
      "cell_type": "code",
      "metadata": {
        "id": "p1T9V6YcSwgD",
        "outputId": "72c7ea0a-6ecf-4f39-bb6e-241867c5d8dc",
        "colab": {
          "base_uri": "https://localhost:8080/",
          "height": 167
        }
      },
      "source": [
        "x"
      ],
      "execution_count": 13,
      "outputs": [
        {
          "output_type": "error",
          "ename": "NameError",
          "evalue": "ignored",
          "traceback": [
            "\u001b[0;31m---------------------------------------------------------------------------\u001b[0m",
            "\u001b[0;31mNameError\u001b[0m                                 Traceback (most recent call last)",
            "\u001b[0;32m<ipython-input-13-6fcf9dfbd479>\u001b[0m in \u001b[0;36m<module>\u001b[0;34m()\u001b[0m\n\u001b[0;32m----> 1\u001b[0;31m \u001b[0mx\u001b[0m\u001b[0;34m\u001b[0m\u001b[0;34m\u001b[0m\u001b[0m\n\u001b[0m",
            "\u001b[0;31mNameError\u001b[0m: name 'x' is not defined"
          ]
        }
      ]
    },
    {
      "cell_type": "code",
      "metadata": {
        "id": "XDVMTPN9SwgD"
      },
      "source": [
        "# clearly named variables are key when writing production-quality code\n",
        "shopping_bill = 10.00\n",
        "\n",
        "vat_rate = 1.2\n",
        "\n",
        "bill_with_vat = shopping_bill * vat_rate\n",
        "\n",
        "bill_with_vat"
      ],
      "execution_count": null,
      "outputs": []
    },
    {
      "cell_type": "code",
      "metadata": {
        "id": "AOxeHx4lSwgE"
      },
      "source": [
        ""
      ],
      "execution_count": null,
      "outputs": []
    },
    {
      "cell_type": "markdown",
      "metadata": {
        "id": "crF3WPgOSwgE"
      },
      "source": [
        "## Variable Assignment Exercises"
      ]
    },
    {
      "cell_type": "markdown",
      "metadata": {
        "id": "41FJy8IaSwgE"
      },
      "source": [
        "Use variable assignment to calculate some shopping bills:\n",
        "- Tomatoes cost 87p for a pack of 6\n",
        "- 500g sugar costs £1.09\n",
        "- Washing sponges cost 29p for a pack of 10\n",
        "- Juice is £1.89 per 1.5l bottle\n",
        "- Foil is £1.29 per 30m roll"
      ]
    },
    {
      "cell_type": "markdown",
      "metadata": {
        "id": "PlX612zWSwgF"
      },
      "source": [
        "### Question 1:\n",
        "Assign variables for each of these items and their prices"
      ]
    },
    {
      "cell_type": "code",
      "metadata": {
        "id": "7cIZ5JnuSwgG"
      },
      "source": [
        "# CODE HERE\n",
        "tomatoes = 0.87\n",
        "sugar500g = 1.09\n",
        "sponges10 = 0.29\n",
        "juice1_5L = 1.89\n",
        "foil30m = 1.29"
      ],
      "execution_count": null,
      "outputs": []
    },
    {
      "cell_type": "markdown",
      "metadata": {
        "id": "m4_p9JUKSwgG"
      },
      "source": [
        "### Question 2:\n",
        "    \n",
        "How much for 1kg sugar?"
      ]
    },
    {
      "cell_type": "code",
      "metadata": {
        "id": "QPtL-vOkSwgG",
        "outputId": "a60e0623-90e6-418b-8d99-2bf20997fac3"
      },
      "source": [
        "# CODE HERE\n",
        "2*sugar500g"
      ],
      "execution_count": null,
      "outputs": [
        {
          "data": {
            "text/plain": [
              "2.18"
            ]
          },
          "execution_count": 62,
          "metadata": {},
          "output_type": "execute_result"
        }
      ]
    },
    {
      "cell_type": "markdown",
      "metadata": {
        "id": "YXYUCReISwgH"
      },
      "source": [
        "### Question 3:\n",
        "\n",
        "How much for 20 washing sponges, 3l of juice, 2 packs of tomatoes?"
      ]
    },
    {
      "cell_type": "code",
      "metadata": {
        "id": "4MwU1h5TSwgH",
        "outputId": "9265b040-35a8-4901-f0b2-53c48389d21d"
      },
      "source": [
        "# CODE HERE\n",
        "2 * sponges10 + 2 * juice1_5L + 2 * tomatoes\n",
        "\n",
        "2 * (sponges10 + juice1_5L + tomatoes)"
      ],
      "execution_count": null,
      "outputs": [
        {
          "data": {
            "text/plain": [
              "6.1"
            ]
          },
          "execution_count": 63,
          "metadata": {},
          "output_type": "execute_result"
        }
      ]
    },
    {
      "cell_type": "markdown",
      "metadata": {
        "id": "1uPDlreESwgH"
      },
      "source": [
        "### Question 4:\n",
        "\n",
        "How much to shop for 5 people, if they each need:\n",
        "- A pack of tomatoes\n",
        "- 3 washing sponges\n",
        "- A litre of juice\n",
        "- 20m of foil\n",
        "- 180g sugar\n",
        "<br><br>\n",
        "Bear in mind, you can only purchase items in full packs from a shop, but they can be divided up at home.\n",
        "<br><br>\n",
        "Provide your answer as a printed variable called 'total'."
      ]
    },
    {
      "cell_type": "code",
      "metadata": {
        "id": "NkP4XxXJSwgI",
        "outputId": "f65f8a77-0a60-46d0-bf9d-931717b3e451",
        "colab": {
          "base_uri": "https://localhost:8080/"
        }
      },
      "source": [
        "tomatoes = 0.87\n",
        "sugar500g = 1.09\n",
        "sponges10 = 0.29\n",
        "juice1_5L = 1.89\n",
        "foil30m = 1.29\n",
        "\n",
        "total = 5 * (tomatoes + (3/10)*sponges10 + (2/3)*juice1_5L + (2/3)*foil30m + (9/25)*sugar500g)\n",
        "print(total)"
      ],
      "execution_count": 17,
      "outputs": [
        {
          "output_type": "stream",
          "name": "stdout",
          "text": [
            "17.346999999999998\n"
          ]
        }
      ]
    },
    {
      "cell_type": "markdown",
      "metadata": {
        "id": "n1Fa4lIcSwgI"
      },
      "source": [
        "### Question 5:\n",
        "These prices do not include VAT, calculate the VAT on the shopping from Question 4, and then calculate the total with VAT. <br>\n",
        "Provide both numbers rounded appropriately for pricing in pounds and pence. VAT is 20%."
      ]
    },
    {
      "cell_type": "code",
      "metadata": {
        "id": "snmI_47MSwgJ",
        "outputId": "cce412a8-d8cf-4ba1-d416-97c68a26eac9",
        "colab": {
          "base_uri": "https://localhost:8080/"
        }
      },
      "source": [
        "#items with vat included in price\n",
        "tomatoes = 1.044\n",
        "sugar500g = 1.308\n",
        "sponges10 = 0.348\n",
        "juice1_5L = 2.268\n",
        "foil30m = 1.548\n",
        "\n",
        "total = 5 * (tomatoes + (3/10)*sponges10 + (2/3)*juice1_5L + (2/3)*foil30m + (9/25)*sugar500g)\n",
        "vat = 0.2* total\n",
        "print(total)\n",
        "print(vat)\n"
      ],
      "execution_count": 19,
      "outputs": [
        {
          "output_type": "stream",
          "name": "stdout",
          "text": [
            "20.8164\n",
            "4.16328\n"
          ]
        }
      ]
    },
    {
      "cell_type": "code",
      "metadata": {
        "id": "9v5yYFTaSwgK"
      },
      "source": [
        ""
      ],
      "execution_count": null,
      "outputs": []
    },
    {
      "cell_type": "markdown",
      "metadata": {
        "id": "kYAUpOQaSwgK"
      },
      "source": [
        "## Strings in Python\n",
        "- Strings (str) are a way of representing textual information in Python.\n",
        "- They are denoted by quotation marks: single ('') or double (\"\").\n",
        "- It is usually best to use double speech marks, as apostrophes in text can prematurely end a string.\n",
        "- Apostrophes or other special characters in strings can be escaped using the backslash \\\\ character."
      ]
    },
    {
      "cell_type": "markdown",
      "metadata": {
        "id": "riFn_RVVSwgK"
      },
      "source": [
        "## String Functions and Methods\n",
        "- print() displays the output contained within it.\n",
        "- For strings, print() interprets escape characters (tabs, new lines etc.) and displays the string without quotations.\n",
        "- A method is a function associated with an object.\n",
        "- Strings have many associated methods, we will look at a few here.\n",
        "- Can find the rest at: \n",
        "<br> https://docs.python.org/2/library/stdtypes.html#string-methods"
      ]
    },
    {
      "cell_type": "code",
      "metadata": {
        "id": "PZaFLRDdSwgL",
        "outputId": "c7367e92-3c64-4a39-cfcb-4d722ce02615"
      },
      "source": [
        "x = \"Hello World\"\n",
        "print('hi')"
      ],
      "execution_count": null,
      "outputs": [
        {
          "name": "stdout",
          "output_type": "stream",
          "text": [
            "hi\n"
          ]
        }
      ]
    },
    {
      "cell_type": "code",
      "metadata": {
        "id": "eOX_lvhWSwgL",
        "outputId": "d62e8368-e510-4ee2-e63c-0026d7d3445e"
      },
      "source": [
        "# Using single quotations can be problematic, here, the apostrophe ends the string early\n",
        "print('What's the problem here?')"
      ],
      "execution_count": null,
      "outputs": [
        {
          "ename": "SyntaxError",
          "evalue": "invalid syntax (<ipython-input-19-f68951f46ab8>, line 1)",
          "output_type": "error",
          "traceback": [
            "\u001b[0;36m  File \u001b[0;32m\"<ipython-input-19-f68951f46ab8>\"\u001b[0;36m, line \u001b[0;32m1\u001b[0m\n\u001b[0;31m    print('What's the problem here?')\u001b[0m\n\u001b[0m                ^\u001b[0m\n\u001b[0;31mSyntaxError\u001b[0m\u001b[0;31m:\u001b[0m invalid syntax\n"
          ]
        }
      ]
    },
    {
      "cell_type": "code",
      "metadata": {
        "id": "qBdVwX5kSwgL",
        "outputId": "5e8fcd5c-1273-4f23-b131-2f72313acb7a"
      },
      "source": [
        "# we can use double quotations\n",
        "print(\"What's the problem here?\")"
      ],
      "execution_count": null,
      "outputs": [
        {
          "name": "stdout",
          "output_type": "stream",
          "text": [
            "What's the problem here?\n"
          ]
        }
      ]
    },
    {
      "cell_type": "code",
      "metadata": {
        "id": "te0FitO1SwgL",
        "outputId": "e6645705-7c35-4d7d-b72b-c76566e009d9"
      },
      "source": [
        "# or backslash if we have single and double quotes\n",
        "print(\"What\\'s the \\\"problem\\\" here?\")"
      ],
      "execution_count": null,
      "outputs": [
        {
          "name": "stdout",
          "output_type": "stream",
          "text": [
            "What's the \"problem\" here?\n"
          ]
        }
      ]
    },
    {
      "cell_type": "code",
      "metadata": {
        "id": "1x1f1yyaSwgM",
        "outputId": "d3dbfdd0-85c3-4622-f8c2-6845b3b1b1a1"
      },
      "source": [
        "# .upper() method makes all caps (not inplace)\n",
        "print(x.upper())\n",
        "print(x)\n",
        "\n",
        "\n",
        "y = 1\n",
        "y = str(1)\n",
        "y = int(y)\n",
        "round(y)"
      ],
      "execution_count": null,
      "outputs": [
        {
          "name": "stdout",
          "output_type": "stream",
          "text": [
            "HELLO WORLD\n",
            "Hello World\n"
          ]
        },
        {
          "data": {
            "text/plain": [
              "1"
            ]
          },
          "execution_count": 73,
          "metadata": {},
          "output_type": "execute_result"
        }
      ]
    },
    {
      "cell_type": "code",
      "metadata": {
        "id": "kYcC4pzaSwgM",
        "outputId": "97eb93a0-bc69-4ced-f5c5-ecd6b525f412"
      },
      "source": [
        "# if we want to change x itself, we must reassign it\n",
        "print(x)\n",
        "\n",
        "x = x.upper()\n",
        "\n",
        "print(x)"
      ],
      "execution_count": null,
      "outputs": [
        {
          "name": "stdout",
          "output_type": "stream",
          "text": [
            "Hello World\n",
            "HELLO WORLD\n"
          ]
        }
      ]
    },
    {
      "cell_type": "code",
      "metadata": {
        "id": "NqADm3MZSwgM",
        "outputId": "16dcb4d8-49c5-4295-e043-764f75678837"
      },
      "source": [
        "z = \"how are you?\"\n",
        "z.capitalize()"
      ],
      "execution_count": null,
      "outputs": [
        {
          "data": {
            "text/plain": [
              "'How are you?'"
            ]
          },
          "execution_count": 3,
          "metadata": {},
          "output_type": "execute_result"
        }
      ]
    },
    {
      "cell_type": "code",
      "metadata": {
        "id": "7mzIO9g3SwgN",
        "outputId": "34e4b6d1-09af-45e8-90ee-84bb858a4117"
      },
      "source": [
        "# .lower() method makes all lowercase (not inplace)\n",
        "print(x.lower())"
      ],
      "execution_count": null,
      "outputs": [
        {
          "name": "stdout",
          "output_type": "stream",
          "text": [
            "hello world\n"
          ]
        }
      ]
    },
    {
      "cell_type": "code",
      "metadata": {
        "id": "DIBA0T5ySwgN",
        "outputId": "3363ffca-62e9-41ba-a3e9-abc5e3a4ce8d"
      },
      "source": [
        "# .split() method splits on space as default or desired separator\n",
        "print(x.split())\n",
        "print(x.split(\"o\"))"
      ],
      "execution_count": null,
      "outputs": [
        {
          "name": "stdout",
          "output_type": "stream",
          "text": [
            "['Hello', 'World']\n",
            "['Hell', ' W', 'rld']\n"
          ]
        }
      ]
    },
    {
      "cell_type": "markdown",
      "metadata": {
        "id": "akzfRwg6SwgO"
      },
      "source": [
        "## .format Method\n",
        "- The .format method is a way of inserting something into a string.\n",
        "- This can be other strings or a variable taken from elsewhere in your code.\n",
        "- The syntax used is detailed below.\n",
        "- When using .format to add in a float to a string, we can specify the width and precision of the decimal."
      ]
    },
    {
      "cell_type": "code",
      "metadata": {
        "id": "W-qSJHj0SwgO",
        "outputId": "5b46b213-45ed-43c4-901a-48696ea79865"
      },
      "source": [
        "# default prints in order\n",
        "print(\"The {} {} {}\".format(\"fox\", \"brown\", \"quick\"))"
      ],
      "execution_count": null,
      "outputs": [
        {
          "name": "stdout",
          "output_type": "stream",
          "text": [
            "The fox brown quick\n"
          ]
        }
      ]
    },
    {
      "cell_type": "code",
      "metadata": {
        "id": "TbzY3w92SwgP",
        "outputId": "a3b3a562-011c-4c16-9818-c4891664fc6f"
      },
      "source": [
        "# can index\n",
        "print(\"The {2} {1} {0}\".format(\"fox\", \"brown\", \"quick\"))"
      ],
      "execution_count": null,
      "outputs": [
        {
          "name": "stdout",
          "output_type": "stream",
          "text": [
            "The quick brown fox\n"
          ]
        }
      ]
    },
    {
      "cell_type": "code",
      "metadata": {
        "id": "yDau_R0YSwgP",
        "outputId": "2bb5a537-d1fb-41c8-b641-28d41e692df9"
      },
      "source": [
        "# can use variable keys for readability\n",
        "print(\"The {q} {b} {f}\".format(f=\"fox\", b=\"brown\", q=\"quick\"))"
      ],
      "execution_count": null,
      "outputs": [
        {
          "name": "stdout",
          "output_type": "stream",
          "text": [
            "The quick brown fox\n"
          ]
        }
      ]
    },
    {
      "cell_type": "code",
      "metadata": {
        "id": "zhW8YzghSwgQ",
        "outputId": "df198f16-8a6b-4cbd-94fb-66fbc2202027"
      },
      "source": [
        "# create long decimal\n",
        "result = 100/777\n",
        "print(result, end = \"\\n\\n\")\n",
        "\n",
        "# use value:width.precisionf for formatting\n",
        "# width is minimum length of string, padded with whitespace if necessary\n",
        "# precision is decimal places\n",
        "print(\"The result was {:1.3f}\".format(result))\n",
        "print(\"The result was {r:1.3f}\".format(r=result))\n",
        "print(\"The result was {r:1.7f}\".format(r=result))\n",
        "print(\"The result was {r:.3f}\".format(r=result))"
      ],
      "execution_count": null,
      "outputs": [
        {
          "name": "stdout",
          "output_type": "stream",
          "text": [
            "0.1287001287001287\n",
            "\n",
            "The result was 0.129\n",
            "The result was 0.129\n",
            "The result was 0.1287001\n",
            "The result was 0.129\n"
          ]
        }
      ]
    },
    {
      "cell_type": "markdown",
      "metadata": {
        "id": "T83IGwyVSwgQ"
      },
      "source": [
        "## String Indexing and Slicing\n",
        "- Strings are iterable, meaning they can return their elements one at a time.\n",
        "- Strings are also immutable, meaning their elements cannot be changed once assigned.\n",
        "- They must be __REASSIGNED__ in order to change them.\n",
        "- Each character in the string is one element: this includes spaces and punctuation.\n",
        "- We can make use of this to call back one element (indexing).\n",
        "- Or a range of elements (slicing)."
      ]
    },
    {
      "cell_type": "markdown",
      "metadata": {
        "id": "HG5CFBdPSwgR"
      },
      "source": [
        "In Python:\n",
        "- Indexing starts at 0 (zero).\n",
        "- Slicing is inclusive at the lower bound (including).\n",
        "- Slicing is exclusive at the upper bound (up to but not including)."
      ]
    },
    {
      "cell_type": "code",
      "metadata": {
        "id": "seMpUHvuSwgT"
      },
      "source": [
        "my_first_string = \"Hello World\""
      ],
      "execution_count": null,
      "outputs": []
    },
    {
      "cell_type": "code",
      "metadata": {
        "id": "jMKOeBy8SwgT",
        "outputId": "ac6429ff-e916-4654-8fc7-4bbe6e9dd188"
      },
      "source": [
        "# Index 0 gives first element\n",
        "my_first_string[0]"
      ],
      "execution_count": null,
      "outputs": [
        {
          "data": {
            "text/plain": [
              "'H'"
            ]
          },
          "execution_count": 15,
          "metadata": {},
          "output_type": "execute_result"
        }
      ]
    },
    {
      "cell_type": "markdown",
      "metadata": {
        "id": "zWEMYUxbSwgU"
      },
      "source": [
        "Use colon to indicate slice, 1:4 returns 2nd (index 1), 3rd (index 2), 4th (index 3) items __but not 5th (index 4)__:"
      ]
    },
    {
      "cell_type": "code",
      "metadata": {
        "id": "3cgbYOxqSwgV",
        "outputId": "3b31ea4e-9de0-4881-9f4d-a9452bff6bfe"
      },
      "source": [
        "my_first_string[1:4]"
      ],
      "execution_count": null,
      "outputs": [
        {
          "data": {
            "text/plain": [
              "'ell'"
            ]
          },
          "execution_count": 16,
          "metadata": {},
          "output_type": "execute_result"
        }
      ]
    },
    {
      "cell_type": "markdown",
      "metadata": {
        "id": "g6tidHswSwgW"
      },
      "source": [
        "Absent upper bound starts with first index indicated and gives everything beyond:"
      ]
    },
    {
      "cell_type": "code",
      "metadata": {
        "id": "uH4PUKg1SwgX",
        "outputId": "1857146c-29ad-48a8-d55c-adb1987fdef1"
      },
      "source": [
        "my_first_string[1:]"
      ],
      "execution_count": null,
      "outputs": [
        {
          "data": {
            "text/plain": [
              "'ello World'"
            ]
          },
          "execution_count": 17,
          "metadata": {},
          "output_type": "execute_result"
        }
      ]
    },
    {
      "cell_type": "markdown",
      "metadata": {
        "id": "1irtcXxESwgX"
      },
      "source": [
        "Absent lower bound starts from index 0, up to but not including upper bound:"
      ]
    },
    {
      "cell_type": "code",
      "metadata": {
        "id": "WvnJz9-lSwgY",
        "outputId": "66ed7d42-d61a-4a79-fb71-2d3ce2f95d5f"
      },
      "source": [
        "my_first_string[:3]"
      ],
      "execution_count": null,
      "outputs": [
        {
          "data": {
            "text/plain": [
              "'Hel'"
            ]
          },
          "execution_count": 18,
          "metadata": {},
          "output_type": "execute_result"
        }
      ]
    },
    {
      "cell_type": "markdown",
      "metadata": {
        "id": "k0pr20QkSwgY"
      },
      "source": [
        "We cannot change elements of a string:"
      ]
    },
    {
      "cell_type": "code",
      "metadata": {
        "id": "GBlsNVNMSwgY",
        "outputId": "884ec7e7-d40a-473b-cea9-49316fd47262"
      },
      "source": [
        "my_first_string[0] = 'l'"
      ],
      "execution_count": null,
      "outputs": [
        {
          "ename": "TypeError",
          "evalue": "'str' object does not support item assignment",
          "output_type": "error",
          "traceback": [
            "\u001b[0;31m---------------------------------------------------------------------------\u001b[0m",
            "\u001b[0;31mTypeError\u001b[0m                                 Traceback (most recent call last)",
            "\u001b[0;32m<ipython-input-21-987619901b59>\u001b[0m in \u001b[0;36m<module>\u001b[0;34m\u001b[0m\n\u001b[1;32m      1\u001b[0m \u001b[0;31m# we cannot change elements of a string\u001b[0m\u001b[0;34m\u001b[0m\u001b[0;34m\u001b[0m\u001b[0;34m\u001b[0m\u001b[0m\n\u001b[0;32m----> 2\u001b[0;31m \u001b[0mmy_first_string\u001b[0m\u001b[0;34m[\u001b[0m\u001b[0;36m0\u001b[0m\u001b[0;34m]\u001b[0m \u001b[0;34m=\u001b[0m \u001b[0;34m'l'\u001b[0m\u001b[0;34m\u001b[0m\u001b[0;34m\u001b[0m\u001b[0m\n\u001b[0m",
            "\u001b[0;31mTypeError\u001b[0m: 'str' object does not support item assignment"
          ]
        }
      ]
    },
    {
      "cell_type": "markdown",
      "metadata": {
        "id": "0LyIDWUYSwgZ"
      },
      "source": [
        "## Strings Exercises"
      ]
    },
    {
      "cell_type": "markdown",
      "metadata": {
        "id": "nNmhjvZtSwgZ"
      },
      "source": [
        "__Cuboid:__\n",
        "- Height (h): 25/7.\n",
        "- Width (w): 25/2.\n",
        "- Length (l): 35.\n",
        "\n",
        "__Cone:__\n",
        "- Height (h): 10.\n",
        "- Radius of base (r): 3."
      ]
    },
    {
      "cell_type": "markdown",
      "metadata": {
        "id": "oLIlFUXFSwgZ"
      },
      "source": [
        "### Question 1:\n",
        "\n",
        "Use formulae to produce the volumes and surface areas of the following shapes and assign them to variables. <br>\n",
        "pi has been imported for you, it is just called pi."
      ]
    },
    {
      "cell_type": "markdown",
      "metadata": {
        "id": "cfKdkX_vSwgZ"
      },
      "source": [
        "- Cuboid volume = l \\* w \\* h\n",
        "- Cuboid surface area = 2(lw + lh + hw)"
      ]
    },
    {
      "cell_type": "markdown",
      "metadata": {
        "id": "i-ESsLMWSwgZ"
      },
      "source": [
        "- Cone volume = pi * r\\*\\*2 * h/3\n",
        "- Cone surface area = pi * r(r + sqrt(h\\*\\*2 + r\\*\\*2))"
      ]
    },
    {
      "cell_type": "code",
      "metadata": {
        "id": "Q5UGMyIQSwga",
        "outputId": "c67f1fac-5e73-4b99-b120-48f6cbd842ff",
        "colab": {
          "base_uri": "https://localhost:8080/",
          "height": 237
        }
      },
      "source": [
        "cuboid_vol = 35* (25/7) * (25/2)\n",
        "\n",
        "#cuboid_sa = 2((35*(25/2))+(35*(25/7))+((25/2)*(25/7)))\n",
        "\n",
        "print(cuboid_vol)"
      ],
      "execution_count": 37,
      "outputs": [
        {
          "output_type": "error",
          "ename": "TypeError",
          "evalue": "ignored",
          "traceback": [
            "\u001b[0;31m---------------------------------------------------------------------------\u001b[0m",
            "\u001b[0;31mTypeError\u001b[0m                                 Traceback (most recent call last)",
            "\u001b[0;32m<ipython-input-37-e5d9bae2493b>\u001b[0m in \u001b[0;36m<module>\u001b[0;34m()\u001b[0m\n\u001b[1;32m      1\u001b[0m \u001b[0mcuboid_vol\u001b[0m \u001b[0;34m=\u001b[0m \u001b[0;36m35\u001b[0m\u001b[0;34m*\u001b[0m \u001b[0;34m(\u001b[0m\u001b[0;36m25\u001b[0m\u001b[0;34m/\u001b[0m\u001b[0;36m7\u001b[0m\u001b[0;34m)\u001b[0m \u001b[0;34m*\u001b[0m \u001b[0;34m(\u001b[0m\u001b[0;36m25\u001b[0m\u001b[0;34m/\u001b[0m\u001b[0;36m2\u001b[0m\u001b[0;34m)\u001b[0m\u001b[0;34m\u001b[0m\u001b[0;34m\u001b[0m\u001b[0m\n\u001b[1;32m      2\u001b[0m \u001b[0;34m\u001b[0m\u001b[0m\n\u001b[0;32m----> 3\u001b[0;31m \u001b[0my\u001b[0m \u001b[0;34m=\u001b[0m \u001b[0;36m2\u001b[0m\u001b[0;34m(\u001b[0m\u001b[0;34m(\u001b[0m\u001b[0;36m35\u001b[0m\u001b[0;34m*\u001b[0m\u001b[0;34m(\u001b[0m\u001b[0;36m25\u001b[0m\u001b[0;34m/\u001b[0m\u001b[0;36m2\u001b[0m\u001b[0;34m)\u001b[0m\u001b[0;34m)\u001b[0m\u001b[0;34m*\u001b[0m\u001b[0;34m(\u001b[0m\u001b[0;36m35\u001b[0m\u001b[0;34m*\u001b[0m\u001b[0;34m(\u001b[0m\u001b[0;36m25\u001b[0m\u001b[0;34m/\u001b[0m\u001b[0;36m7\u001b[0m\u001b[0;34m)\u001b[0m\u001b[0;34m)\u001b[0m\u001b[0;34m*\u001b[0m\u001b[0;34m(\u001b[0m\u001b[0;34m(\u001b[0m\u001b[0;36m25\u001b[0m\u001b[0;34m/\u001b[0m\u001b[0;36m2\u001b[0m\u001b[0;34m)\u001b[0m\u001b[0;34m*\u001b[0m\u001b[0;34m(\u001b[0m\u001b[0;36m25\u001b[0m\u001b[0;34m/\u001b[0m\u001b[0;36m7\u001b[0m\u001b[0;34m)\u001b[0m\u001b[0;34m)\u001b[0m\u001b[0;34m)\u001b[0m\u001b[0;34m\u001b[0m\u001b[0;34m\u001b[0m\u001b[0m\n\u001b[0m\u001b[1;32m      4\u001b[0m \u001b[0;34m\u001b[0m\u001b[0m\n\u001b[1;32m      5\u001b[0m \u001b[0mprint\u001b[0m\u001b[0;34m(\u001b[0m\u001b[0mcuboid_vol\u001b[0m\u001b[0;34m)\u001b[0m\u001b[0;34m\u001b[0m\u001b[0;34m\u001b[0m\u001b[0m\n",
            "\u001b[0;31mTypeError\u001b[0m: 'int' object is not callable"
          ]
        }
      ]
    },
    {
      "cell_type": "code",
      "metadata": {
        "id": "_5kcBA78Swga",
        "outputId": "c5fdf080-e6d1-4928-ee18-96ab719fdef9",
        "colab": {
          "base_uri": "https://localhost:8080/"
        }
      },
      "source": [
        "from math import pi # ignore this line, it just imports pi\n",
        "\n",
        "cone_vol = pi * (3**2) *(10/3)\n",
        "#cone_sa = pi* 3(3 + (10**2 + 3**2)**(1/2))\n",
        "\n",
        "print(cone_vol)"
      ],
      "execution_count": 34,
      "outputs": [
        {
          "output_type": "stream",
          "name": "stdout",
          "text": [
            "94.2477796076938\n"
          ]
        }
      ]
    },
    {
      "cell_type": "markdown",
      "metadata": {
        "id": "erSkSaODSwga"
      },
      "source": [
        "### Question 2:\n",
        "\n",
        "Write 2 print statements (one for each shape) in the format: \n",
        "- '(shape) has volume x and surface area y.' <br><br>\n",
        "Where:\n",
        "- shape is cuboid or cone\n",
        "- x is the respective volume you have just defined added in by .format\n",
        "- y is the respective surface area you have just defined added in by .format"
      ]
    },
    {
      "cell_type": "code",
      "metadata": {
        "id": "aYuJDt1ISwga",
        "outputId": "5f5d0709-e9ad-4f55-b6df-39651a94caaa",
        "colab": {
          "base_uri": "https://localhost:8080/"
        }
      },
      "source": [
        "print(\"Cuboid has a volume {x} and surface area {y}\".format(x=cuboid_vol,y=1214.2857142857142))\n",
        "print(\"Cone has a volume {a} and surface area {b}\".format(a=cone_vol, b=126.6719045711654))"
      ],
      "execution_count": 39,
      "outputs": [
        {
          "output_type": "stream",
          "name": "stdout",
          "text": [
            "Cuboid has a volume 1562.5 and surface area 1214.2857142857142\n",
            "Cone has a volume 94.2477796076938 and surface area 126.6719045711654\n"
          ]
        }
      ]
    },
    {
      "cell_type": "markdown",
      "metadata": {
        "id": "X-zuD25lSwgb"
      },
      "source": [
        "### Question 3:\n",
        "\n",
        "Write 2 more print statements, this time with the dimensions of each shape formatted in, and all of the numbers rounded to 2dp. The statements should take the form:\n",
        "- '(shape) has (dimensions), with volume x and surface area y.'\n",
        "- The dimensions statements are provided for you."
      ]
    },
    {
      "cell_type": "code",
      "metadata": {
        "id": "kaN_2IM8Swgb",
        "outputId": "030f219b-0920-4d1b-ad95-5128a87a7144",
        "colab": {
          "base_uri": "https://localhost:8080/"
        }
      },
      "source": [
        "cuboid_dim = \"height 3.57, width 12.50, length 35.00\"\n",
        "\n",
        "cone_dim = \"height 10.00, radius 3.00\"\n",
        "\n",
        "print(\"Cuboid has {a}, with volume {x} and surface area {y}\".format(a=cuboid_dim, x=cuboid_vol,y=1214.29))"
      ],
      "execution_count": 43,
      "outputs": [
        {
          "output_type": "stream",
          "name": "stdout",
          "text": [
            "Cuboid has height 3.57, width 12.50, length 35.00, with volume 1562.5 and surface area 1214.29\n"
          ]
        }
      ]
    },
    {
      "cell_type": "code",
      "metadata": {
        "id": "iOPadxBySwgc"
      },
      "source": [
        ""
      ],
      "execution_count": null,
      "outputs": []
    },
    {
      "cell_type": "markdown",
      "metadata": {
        "id": "crcbMH4sSwgc"
      },
      "source": [
        "## Summary\n",
        "We now understand:\n",
        "- The nature of ints and floats.\n",
        "- The nature of None.\n",
        "- The nature of variables.\n",
        "- What strings and print formatting are.\n",
        "<br><br>\n",
        "\n",
        "We now know how to:\n",
        "- Use python as a calculator.\n",
        "- Assign variables and use them.\n",
        "- Use strings and string methods including .upper(), .lower(), .split() and .format().\n",
        "- Add in objects to strings using .format().\n",
        "- Format floats.\n",
        "- Index strings.\n",
        "- Slice strings.\n",
        "\n",
        "\n",
        "Please refer back to this notebook to check if you are unsure of any commands or syntax. <br>\n",
        "Please use the documentation below to find further string methods and conventions for style in Python.\n",
        "\n",
        "## Further reading\n",
        "- PEP8 Style Documentation: https://www.python.org/dev/peps/pep-0008/\n",
        "- String Methods: https://docs.python.org/2/library/stdtypes.html#string-methods\n",
        "- Python None: https://docs.python.org/3/c-api/none.html"
      ]
    },
    {
      "cell_type": "code",
      "metadata": {
        "id": "sM4UsKjESwgc"
      },
      "source": [
        ""
      ],
      "execution_count": null,
      "outputs": []
    }
  ]
}