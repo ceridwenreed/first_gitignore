{
  "nbformat": 4,
  "nbformat_minor": 0,
  "metadata": {
    "interpreter": {
      "hash": "3d597f4c481aa0f25dceb95d2a0067e73c0966dcbd003d741d821a7208527ecf"
    },
    "kernelspec": {
      "display_name": "Python 3.9.1 64-bit ('base': conda)",
      "name": "python3"
    },
    "language_info": {
      "codemirror_mode": {
        "name": "ipython",
        "version": 3
      },
      "file_extension": ".py",
      "mimetype": "text/x-python",
      "name": "python",
      "nbconvert_exporter": "python",
      "pygments_lexer": "ipython3",
      "version": "3.9.1"
    },
    "colab": {
      "name": "Notebook.ipynb",
      "provenance": []
    }
  },
  "cells": [
    {
      "cell_type": "markdown",
      "metadata": {
        "id": "zCTqj5WTFEVN"
      },
      "source": [
        "# 2. Lists and Sets"
      ]
    },
    {
      "cell_type": "markdown",
      "metadata": {
        "id": "V7uCzCzHFEVS"
      },
      "source": [
        "## Learning objectives\n",
        "- Understand the nature of a list.\n",
        "- Know how to index and slice a list.\n",
        "- Know some ways to add items to a list.\n",
        "- Know some methods associated with a list.\n",
        "<br> <br>\n",
        "- Understand the nature of a set.\n",
        "- Learn how to add to and update a set.\n",
        "- Learn how to join sets using different methods."
      ]
    },
    {
      "cell_type": "markdown",
      "metadata": {
        "id": "HnTPhCo_FEVU"
      },
      "source": [
        "## Lists"
      ]
    },
    {
      "cell_type": "markdown",
      "metadata": {
        "id": "kElVjq3sFEVV"
      },
      "source": [
        "- Powerful data type in Python.\n",
        "- Denoted by square brackets [].\n",
        "- Store items as a mutable ordered sequence of elements.\n",
        "- Each element in a list is an item.\n",
        "- Support indexing and slicing.\n",
        "- Can nest lists within each other.\n",
        "\n",
        "![Lists](https://github.com/life-efficient/Essentials/blob/main/2.%20Python%20programming/2.%20Lists%20and%20Sets/images/lists.png?raw=1)"
      ]
    },
    {
      "cell_type": "markdown",
      "metadata": {
        "id": "KbOGkhBnFEVW"
      },
      "source": [
        "### Some definitions\n",
        "- Mutable: can be changed after creation (supports addition/removal/reassignment of items).\n",
        "- Ordered: as it sounds, has a fixed order (the order of elements provided at the time of assignment) and so can be indexed using numbers.\n",
        "- Hence a list \\[2,1,3,4\\] will not be rearranged, 2 will be the first element, 1 will be the second... etc.\n",
        "- Sequence of elements: fairly self explanatory."
      ]
    },
    {
      "cell_type": "code",
      "metadata": {
        "id": "AeVs7RMHFEVX"
      },
      "source": [
        "# can handle multiple object types\n",
        "my_list = [3, \"three\", 3.0, True]"
      ],
      "execution_count": null,
      "outputs": []
    },
    {
      "cell_type": "code",
      "metadata": {
        "id": "-j6OKVLjFEVZ"
      },
      "source": [
        "my_list[0]"
      ],
      "execution_count": null,
      "outputs": []
    },
    {
      "cell_type": "code",
      "metadata": {
        "id": "PUzwQOPkFEVa",
        "outputId": "f99966cb-99b7-4629-b545-f52acc19e463",
        "colab": {
          "base_uri": "https://localhost:8080/"
        }
      },
      "source": [
        "sentence = 'This is just a sentence'\n",
        "sentence.split('s')"
      ],
      "execution_count": 1,
      "outputs": [
        {
          "output_type": "execute_result",
          "data": {
            "text/plain": [
              "['Thi', ' i', ' ju', 't a ', 'entence']"
            ]
          },
          "metadata": {},
          "execution_count": 1
        }
      ]
    },
    {
      "cell_type": "code",
      "metadata": {
        "id": "Sl09x2YZFEVb"
      },
      "source": [
        "# can use the type() function to check the data type of an object\n",
        "type(3)"
      ],
      "execution_count": null,
      "outputs": []
    },
    {
      "cell_type": "code",
      "metadata": {
        "id": "OCDZUEWaFEVc"
      },
      "source": [
        "type(\"three\")"
      ],
      "execution_count": null,
      "outputs": []
    },
    {
      "cell_type": "code",
      "metadata": {
        "id": "6bLqlmMgFEVc"
      },
      "source": [
        "type(3.0)"
      ],
      "execution_count": null,
      "outputs": []
    },
    {
      "cell_type": "code",
      "metadata": {
        "id": "f0WKjL2IFEVd"
      },
      "source": [
        "type(True)"
      ],
      "execution_count": null,
      "outputs": []
    },
    {
      "cell_type": "code",
      "metadata": {
        "id": "ky8dJcRdFEVe"
      },
      "source": [
        "type(my_list)"
      ],
      "execution_count": null,
      "outputs": []
    },
    {
      "cell_type": "markdown",
      "metadata": {
        "id": "GDcL3NxSFEVf"
      },
      "source": [
        "### Indexing and Slicing"
      ]
    },
    {
      "cell_type": "markdown",
      "metadata": {
        "id": "eaqe2pOpFEVf"
      },
      "source": [
        "In Python, slicing:\n",
        "\n",
        "- Starts at 0 (zero).\n",
        "- Is inclusive at the lower bound (including).\n",
        "- Is exclusive at the upper bound (up to but not including)."
      ]
    },
    {
      "cell_type": "code",
      "metadata": {
        "id": "NJtKDibzFEVf",
        "outputId": "22441bcc-97af-4b09-a66d-68cb0e26da5d",
        "colab": {
          "base_uri": "https://localhost:8080/"
        }
      },
      "source": [
        "my_list = ['John', 'Paul', 'George', 'Ringo']\n",
        "my_list"
      ],
      "execution_count": 3,
      "outputs": [
        {
          "output_type": "execute_result",
          "data": {
            "text/plain": [
              "['John', 'Paul', 'George', 'Ringo']"
            ]
          },
          "metadata": {},
          "execution_count": 3
        }
      ]
    },
    {
      "cell_type": "code",
      "metadata": {
        "id": "kaqfvUNCFEVh"
      },
      "source": [
        "# Index 0 gives first element\n",
        "my_list[0]"
      ],
      "execution_count": null,
      "outputs": []
    },
    {
      "cell_type": "code",
      "metadata": {
        "id": "JLUqkRIuFEVi"
      },
      "source": [
        "# Use colon to indicate slice, 1:3 returns 2nd and 3rd items but not 4th\n",
        "my_list[0:3]"
      ],
      "execution_count": null,
      "outputs": []
    },
    {
      "cell_type": "code",
      "metadata": {
        "id": "6MDkemDnFEVj"
      },
      "source": [
        "# No upper bound starts with first index indicated and gives everything beyond\n",
        "my_list[1:]"
      ],
      "execution_count": null,
      "outputs": []
    },
    {
      "cell_type": "code",
      "metadata": {
        "id": "aduPIYuCFEVk"
      },
      "source": [
        "# No lower bound starts from index 0, up to but not including upper bound\n",
        "my_list[:3]"
      ],
      "execution_count": null,
      "outputs": []
    },
    {
      "cell_type": "code",
      "metadata": {
        "id": "yHqSLo8pFEVk"
      },
      "source": [
        "# The third argument will define the step size\n",
        "my_list[::2]"
      ],
      "execution_count": null,
      "outputs": []
    },
    {
      "cell_type": "code",
      "metadata": {
        "id": "60rMoO1fFEVk"
      },
      "source": [
        "# You can also use negative index to start from the end:\n",
        "print(my_list[-1])\n",
        "print(my_list[-2])\n",
        "# You can also define the step size as negative, which will go backwards\n",
        "print(my_list[::-1])"
      ],
      "execution_count": null,
      "outputs": []
    },
    {
      "cell_type": "code",
      "metadata": {
        "id": "g72CizPIFEVl",
        "outputId": "8dbb713f-6402-4c09-cf76-4a585667ced2",
        "colab": {
          "base_uri": "https://localhost:8080/"
        }
      },
      "source": [
        "# You can reassign elements in lists to new values\n",
        "my_list[1] = my_list[1].upper()\n",
        "my_list"
      ],
      "execution_count": 4,
      "outputs": [
        {
          "output_type": "execute_result",
          "data": {
            "text/plain": [
              "['John', 'PAUL', 'George', 'Ringo']"
            ]
          },
          "metadata": {},
          "execution_count": 4
        }
      ]
    },
    {
      "cell_type": "code",
      "metadata": {
        "id": "94eWPZ4NFEVl",
        "outputId": "2329f911-602e-4120-89fb-3c95c16c9265",
        "colab": {
          "base_uri": "https://localhost:8080/"
        }
      },
      "source": [
        "# You can add elements to lists, but it does not change original list\n",
        "my_list + ['Yoko']\n",
        "print(my_list)"
      ],
      "execution_count": 5,
      "outputs": [
        {
          "output_type": "stream",
          "name": "stdout",
          "text": [
            "['John', 'PAUL', 'George', 'Ringo']\n"
          ]
        }
      ]
    },
    {
      "cell_type": "code",
      "metadata": {
        "id": "B3ltAKb4FEVm",
        "outputId": "3cc055c9-0cb6-4f33-8441-c7e8d3020d56",
        "colab": {
          "base_uri": "https://localhost:8080/"
        }
      },
      "source": [
        "# If you want to change the original list, you must reassign list to change original\n",
        "my_list = my_list + ['Yoko']\n",
        "\n",
        "my_list"
      ],
      "execution_count": 6,
      "outputs": [
        {
          "output_type": "execute_result",
          "data": {
            "text/plain": [
              "['John', 'PAUL', 'George', 'Ringo', 'Yoko']"
            ]
          },
          "metadata": {},
          "execution_count": 6
        }
      ]
    },
    {
      "cell_type": "code",
      "metadata": {
        "id": "4ejEAFaDFEVm",
        "outputId": "247e6ad9-4abf-4173-9997-748694db4d18",
        "colab": {
          "base_uri": "https://localhost:8080/"
        }
      },
      "source": [
        "# You can reassign it to a slice of the original list\n",
        "\n",
        "my_list = my_list[:4]\n",
        "\n",
        "my_list"
      ],
      "execution_count": 7,
      "outputs": [
        {
          "output_type": "execute_result",
          "data": {
            "text/plain": [
              "['John', 'PAUL', 'George', 'Ringo']"
            ]
          },
          "metadata": {},
          "execution_count": 7
        }
      ]
    },
    {
      "cell_type": "code",
      "metadata": {
        "id": "71NlDT19FEVm",
        "outputId": "b5c0391f-1e24-406a-c9c6-d01442e87e91",
        "colab": {
          "base_uri": "https://localhost:8080/"
        }
      },
      "source": [
        "# YOu can multiply your list by an integer, which will replicate the original list x times\n",
        "print(my_list * 2)\n",
        "# As before, you need to reassign if you want to make changes to the original changes\n",
        "my_list"
      ],
      "execution_count": 8,
      "outputs": [
        {
          "output_type": "stream",
          "name": "stdout",
          "text": [
            "['John', 'PAUL', 'George', 'Ringo', 'John', 'PAUL', 'George', 'Ringo']\n"
          ]
        },
        {
          "output_type": "execute_result",
          "data": {
            "text/plain": [
              "['John', 'PAUL', 'George', 'Ringo']"
            ]
          },
          "metadata": {},
          "execution_count": 8
        }
      ]
    },
    {
      "cell_type": "code",
      "metadata": {
        "id": "KQi1ElzUFEVn",
        "outputId": "b24122ab-95d2-40b9-9239-82e1fed78a77",
        "colab": {
          "base_uri": "https://localhost:8080/"
        }
      },
      "source": [
        "# Lists can be an item within a list\n",
        "# Lists within lists are called nested\n",
        "lst_1=[1,2,3]\n",
        "lst_2=[4,5,6]\n",
        "lst_3=[7,8,9]\n",
        "\n",
        "# Make a list of lists to form a nested list\n",
        "nest_list = [lst_1,lst_2,lst_3]\n",
        "nest_list"
      ],
      "execution_count": 9,
      "outputs": [
        {
          "output_type": "execute_result",
          "data": {
            "text/plain": [
              "[[1, 2, 3], [4, 5, 6], [7, 8, 9]]"
            ]
          },
          "metadata": {},
          "execution_count": 9
        }
      ]
    },
    {
      "cell_type": "markdown",
      "metadata": {
        "id": "uaJSTtz3FEVn"
      },
      "source": [
        "You can make a list nested in a list, which in turn is nested in another list... It's like the Inception movie!\n",
        "\n",
        "<p align=center><img src=https://github.com/life-efficient/Essentials/blob/main/2.%20Python%20programming/2.%20Lists%20and%20Sets/images/deeper.jpg?raw=1></p>"
      ]
    },
    {
      "cell_type": "code",
      "metadata": {
        "id": "Xd4oB43QFEVo",
        "outputId": "08bce2d7-ad53-4295-82e0-4d753585cb75",
        "colab": {
          "base_uri": "https://localhost:8080/"
        }
      },
      "source": [
        "print('Accessing second item', nest_list[1])\n",
        "print('Accessing second item of the second item', nest_list[1][1])"
      ],
      "execution_count": 10,
      "outputs": [
        {
          "output_type": "stream",
          "name": "stdout",
          "text": [
            "Accessing second item [4, 5, 6]\n",
            "Accessing second item of the second item 5\n"
          ]
        }
      ]
    },
    {
      "cell_type": "markdown",
      "metadata": {
        "id": "z_DDY5U9FEVo"
      },
      "source": [
        "### List Functions and Methods"
      ]
    },
    {
      "cell_type": "markdown",
      "metadata": {
        "id": "64UQMdSBFEVp"
      },
      "source": [
        "Let's review some of the most common functions and methods that you can use with lists.\n",
        "\n",
        "The difference between functions and methods is that functions are not bounded to a specific data type, whereas methods are. In other words, a method is a function that is characteristic to a certain data type.\n",
        "\n",
        "Therefore, all methods are functions, but not all functions are methods."
      ]
    },
    {
      "cell_type": "markdown",
      "metadata": {
        "id": "X1pSkFFnFEVp"
      },
      "source": [
        "Here we will see some of the most common methods and functions you will find in Python for lists. We encourage you to go to the official Python documentation [here](https://docs.python.org/3/tutorial/datastructures.html) to check an exhaustive list of methods"
      ]
    },
    {
      "cell_type": "markdown",
      "metadata": {
        "id": "4LrP-0K2FEVp"
      },
      "source": [
        "#### <font size=+2>`len`</font>"
      ]
    },
    {
      "cell_type": "markdown",
      "metadata": {
        "id": "kDEB2mxSFEVp"
      },
      "source": [
        "`len` is a Python function that counts the number of items in a data type containing multiple elements."
      ]
    },
    {
      "cell_type": "code",
      "metadata": {
        "id": "4IFWgpwcFEVq",
        "outputId": "3309fcb0-d8a3-4130-b145-9d049928dca3",
        "colab": {
          "base_uri": "https://localhost:8080/"
        }
      },
      "source": [
        "# Let's redefine my_list so we don't lose track of its content\n",
        "my_list = ['John', 'Paul', 'George', 'Ringo']\n",
        "len(my_list)"
      ],
      "execution_count": 11,
      "outputs": [
        {
          "output_type": "execute_result",
          "data": {
            "text/plain": [
              "4"
            ]
          },
          "metadata": {},
          "execution_count": 11
        }
      ]
    },
    {
      "cell_type": "markdown",
      "metadata": {
        "id": "UvO0deosFEVq"
      },
      "source": [
        "Take into account that the `len` function doesn't work for numbers or floats. It will work for data types that are collections, such as lists, or strings"
      ]
    },
    {
      "cell_type": "code",
      "metadata": {
        "id": "_xTvSl-4FEVr",
        "outputId": "bac7e34c-75c3-488e-f7ff-b9b00e50a368",
        "colab": {
          "base_uri": "https://localhost:8080/",
          "height": 167
        }
      },
      "source": [
        "len(3)"
      ],
      "execution_count": 12,
      "outputs": [
        {
          "output_type": "error",
          "ename": "TypeError",
          "evalue": "ignored",
          "traceback": [
            "\u001b[0;31m---------------------------------------------------------------------------\u001b[0m",
            "\u001b[0;31mTypeError\u001b[0m                                 Traceback (most recent call last)",
            "\u001b[0;32m<ipython-input-12-6b3b01eb5e19>\u001b[0m in \u001b[0;36m<module>\u001b[0;34m()\u001b[0m\n\u001b[0;32m----> 1\u001b[0;31m \u001b[0mlen\u001b[0m\u001b[0;34m(\u001b[0m\u001b[0;36m3\u001b[0m\u001b[0;34m)\u001b[0m\u001b[0;34m\u001b[0m\u001b[0;34m\u001b[0m\u001b[0m\n\u001b[0m",
            "\u001b[0;31mTypeError\u001b[0m: object of type 'int' has no len()"
          ]
        }
      ]
    },
    {
      "cell_type": "markdown",
      "metadata": {
        "id": "UlPikfqcFEVr"
      },
      "source": [
        "#### <font size=+2>`min` </font>  and  <font size=+2> `max` </font>"
      ]
    },
    {
      "cell_type": "markdown",
      "metadata": {
        "id": "WZe2V6RxFEVr"
      },
      "source": [
        "You can use min() and max() to find the highest and lowest item in lists."
      ]
    },
    {
      "cell_type": "code",
      "metadata": {
        "id": "dJTRd2xEFEVt",
        "outputId": "eee62a61-88d5-469f-ef8a-d87431c82695",
        "colab": {
          "base_uri": "https://localhost:8080/"
        }
      },
      "source": [
        "num_list = [3, 7, 1, 9, 42]\n",
        "print(min(num_list))\n",
        "print(max(num_list))"
      ],
      "execution_count": 13,
      "outputs": [
        {
          "output_type": "stream",
          "name": "stdout",
          "text": [
            "1\n",
            "42\n"
          ]
        }
      ]
    },
    {
      "cell_type": "markdown",
      "metadata": {
        "id": "EIsFJvtAFEVt"
      },
      "source": [
        "\n",
        "If you use it in lists with strings in it, it works in alphabetical order."
      ]
    },
    {
      "cell_type": "code",
      "metadata": {
        "id": "4ytoFpdFFEVt",
        "outputId": "0738f127-306f-4763-c0d8-55bebb308662",
        "colab": {
          "base_uri": "https://localhost:8080/"
        }
      },
      "source": [
        "print(min(my_list))\n",
        "print(max(my_list))"
      ],
      "execution_count": 14,
      "outputs": [
        {
          "output_type": "stream",
          "name": "stdout",
          "text": [
            "George\n",
            "Ringo\n"
          ]
        }
      ]
    },
    {
      "cell_type": "markdown",
      "metadata": {
        "id": "efWnuCkeFEVu"
      },
      "source": [
        "#### <font size=+2>`.append()` </font> and <font size=+2> `.extend()` </font>\n",
        "- .append() adds items to the end of a list.\n",
        "- .extend() adds items in a list (or other iterable) itemwise to the end of a list.\n",
        "- We can see the difference in addition below."
      ]
    },
    {
      "cell_type": "code",
      "metadata": {
        "id": "pQoU9sj6FEVu",
        "outputId": "7bbcbc1c-4918-491d-b987-24086d65be23",
        "colab": {
          "base_uri": "https://localhost:8080/"
        }
      },
      "source": [
        "# add items by .append() method\n",
        "my_list = ['John', 'Paul', 'George', 'Ringo']\n",
        "my_list.append(['Lennon','McCartney','Harrison', 'Starr'])\n",
        "\n",
        "print(my_list)"
      ],
      "execution_count": 15,
      "outputs": [
        {
          "output_type": "stream",
          "name": "stdout",
          "text": [
            "['John', 'Paul', 'George', 'Ringo', ['Lennon', 'McCartney', 'Harrison', 'Starr']]\n"
          ]
        }
      ]
    },
    {
      "cell_type": "markdown",
      "metadata": {
        "id": "7eAjW7aNFEVu"
      },
      "source": [
        "Notice that when using the `append` method, we didn't had to reassign it to a new variable. It changed the original value of the variable. \n",
        "\n",
        "This same principle applies to the `extend` method"
      ]
    },
    {
      "cell_type": "code",
      "metadata": {
        "id": "vMb0u7ZpFEVu",
        "outputId": "718d5996-2658-4cdd-fd6c-4ba3e7359acb",
        "colab": {
          "base_uri": "https://localhost:8080/"
        }
      },
      "source": [
        "# add items in iterable itemwise by .extend() method\n",
        "my_list = ['John', 'Paul', 'George', 'Ringo']\n",
        "my_list.extend(['Lennon','McCartney','Harrison', 'Starr'])\n",
        "\n",
        "my_list"
      ],
      "execution_count": 16,
      "outputs": [
        {
          "output_type": "execute_result",
          "data": {
            "text/plain": [
              "['John', 'Paul', 'George', 'Ringo', 'Lennon', 'McCartney', 'Harrison', 'Starr']"
            ]
          },
          "metadata": {},
          "execution_count": 16
        }
      ]
    },
    {
      "cell_type": "markdown",
      "metadata": {
        "id": "aSxwsYT_FEVu"
      },
      "source": [
        "#### <font size=+2>`.insert()` </font>"
      ]
    },
    {
      "cell_type": "markdown",
      "metadata": {
        "id": "viOqc8myFEVu"
      },
      "source": [
        "`insert` will add an item in a specific index. Remember that lists are 0 indexed!"
      ]
    },
    {
      "cell_type": "code",
      "metadata": {
        "id": "UoTlJcsLFEVv",
        "outputId": "1ba1f91c-9d3e-4fee-d152-957405047c4f",
        "colab": {
          "base_uri": "https://localhost:8080/"
        }
      },
      "source": [
        "my_list = ['John', 'Paul', 'George', 'Ringo']\n",
        "my_list.insert(1, 'Lennon')\n",
        "my_list"
      ],
      "execution_count": 17,
      "outputs": [
        {
          "output_type": "execute_result",
          "data": {
            "text/plain": [
              "['John', 'Lennon', 'Paul', 'George', 'Ringo']"
            ]
          },
          "metadata": {},
          "execution_count": 17
        }
      ]
    },
    {
      "cell_type": "markdown",
      "metadata": {
        "id": "KeRim0XoFEVw"
      },
      "source": [
        "#### <font size=+2> `.pop()` </font>"
      ]
    },
    {
      "cell_type": "markdown",
      "metadata": {
        "id": "DzTRff5JFEVw"
      },
      "source": [
        "`pop` removes, by default, the last item. Similarly to `append`, `extend`, and `insert`, it changes the original state of the variable. But, this method additionally returns the removed item"
      ]
    },
    {
      "cell_type": "code",
      "metadata": {
        "id": "q8RwWnhxFEVw",
        "outputId": "707b47cb-ed2a-4d7b-d80a-2e26568d7263",
        "colab": {
          "base_uri": "https://localhost:8080/",
          "height": 35
        }
      },
      "source": [
        "# last_item will be assigned with the value of the last element\n",
        "last_item = my_list.pop()\n",
        "last_item"
      ],
      "execution_count": 18,
      "outputs": [
        {
          "output_type": "execute_result",
          "data": {
            "application/vnd.google.colaboratory.intrinsic+json": {
              "type": "string"
            },
            "text/plain": [
              "'Ringo'"
            ]
          },
          "metadata": {},
          "execution_count": 18
        }
      ]
    },
    {
      "cell_type": "markdown",
      "metadata": {
        "id": "DZ_uBl7OFEVw"
      },
      "source": [
        "And `my_list` will contain one element less"
      ]
    },
    {
      "cell_type": "code",
      "metadata": {
        "id": "ZEM4gWreFEVx",
        "outputId": "188f22f2-6d45-4ab1-92e4-915fe3009dca",
        "colab": {
          "base_uri": "https://localhost:8080/"
        }
      },
      "source": [
        "my_list"
      ],
      "execution_count": 19,
      "outputs": [
        {
          "output_type": "execute_result",
          "data": {
            "text/plain": [
              "['John', 'Lennon', 'Paul', 'George']"
            ]
          },
          "metadata": {},
          "execution_count": 19
        }
      ]
    },
    {
      "cell_type": "markdown",
      "metadata": {
        "id": "Y3-5OUnvFEVy"
      },
      "source": [
        "We can specify the index we want to remove"
      ]
    },
    {
      "cell_type": "code",
      "metadata": {
        "id": "8y753Q6qFEVy",
        "outputId": "222186f1-6b1c-44aa-99b0-b76a89a41153",
        "colab": {
          "base_uri": "https://localhost:8080/"
        }
      },
      "source": [
        "# can index, default index -1\n",
        "my_list.pop(0)\n",
        "my_list"
      ],
      "execution_count": 20,
      "outputs": [
        {
          "output_type": "execute_result",
          "data": {
            "text/plain": [
              "['Lennon', 'Paul', 'George']"
            ]
          },
          "metadata": {},
          "execution_count": 20
        }
      ]
    },
    {
      "cell_type": "markdown",
      "metadata": {
        "id": "_0408tISFEVy"
      },
      "source": [
        "#### <font size=+2> `.remove()` </font>"
      ]
    },
    {
      "cell_type": "markdown",
      "metadata": {
        "id": "2etm82EqFEVy"
      },
      "source": [
        "Another way we have to remove elements in a list is using the `remove` method. This will look for the specified item and it will remove it from the list"
      ]
    },
    {
      "cell_type": "code",
      "metadata": {
        "id": "7Bp0Nd86FEVz",
        "outputId": "6ee6a530-f3ed-45c3-eb17-74e5cc910ae8",
        "colab": {
          "base_uri": "https://localhost:8080/"
        }
      },
      "source": [
        "my_list = ['John', 'Lennon', 'Paul', 'George']\n",
        "my_list.remove('John')\n",
        "print(my_list)"
      ],
      "execution_count": 21,
      "outputs": [
        {
          "output_type": "stream",
          "name": "stdout",
          "text": [
            "['Lennon', 'Paul', 'George']\n"
          ]
        }
      ]
    },
    {
      "cell_type": "markdown",
      "metadata": {
        "id": "Woi6wNVNFEVz"
      },
      "source": [
        "Be careful! If the item doesn't exist in the list, Python will throw an error"
      ]
    },
    {
      "cell_type": "code",
      "metadata": {
        "id": "ka4gXKNdFEV0",
        "outputId": "2f522f69-32a8-4398-e6da-6e614be5fffd",
        "colab": {
          "base_uri": "https://localhost:8080/",
          "height": 185
        }
      },
      "source": [
        "my_list = ['John', 'Lennon', 'Paul', 'George']\n",
        "my_list.remove('Yoko')"
      ],
      "execution_count": 22,
      "outputs": [
        {
          "output_type": "error",
          "ename": "ValueError",
          "evalue": "ignored",
          "traceback": [
            "\u001b[0;31m---------------------------------------------------------------------------\u001b[0m",
            "\u001b[0;31mValueError\u001b[0m                                Traceback (most recent call last)",
            "\u001b[0;32m<ipython-input-22-abf111911da3>\u001b[0m in \u001b[0;36m<module>\u001b[0;34m()\u001b[0m\n\u001b[1;32m      1\u001b[0m \u001b[0mmy_list\u001b[0m \u001b[0;34m=\u001b[0m \u001b[0;34m[\u001b[0m\u001b[0;34m'John'\u001b[0m\u001b[0;34m,\u001b[0m \u001b[0;34m'Lennon'\u001b[0m\u001b[0;34m,\u001b[0m \u001b[0;34m'Paul'\u001b[0m\u001b[0;34m,\u001b[0m \u001b[0;34m'George'\u001b[0m\u001b[0;34m]\u001b[0m\u001b[0;34m\u001b[0m\u001b[0;34m\u001b[0m\u001b[0m\n\u001b[0;32m----> 2\u001b[0;31m \u001b[0mmy_list\u001b[0m\u001b[0;34m.\u001b[0m\u001b[0mremove\u001b[0m\u001b[0;34m(\u001b[0m\u001b[0;34m'Yoko'\u001b[0m\u001b[0;34m)\u001b[0m\u001b[0;34m\u001b[0m\u001b[0;34m\u001b[0m\u001b[0m\n\u001b[0m",
            "\u001b[0;31mValueError\u001b[0m: list.remove(x): x not in list"
          ]
        }
      ]
    },
    {
      "cell_type": "markdown",
      "metadata": {
        "id": "t1jbgKtWFEV0"
      },
      "source": [
        "#### <font size=+2>`.sort()`</font> and <font size=+2>`.reverse()`</font>"
      ]
    },
    {
      "cell_type": "markdown",
      "metadata": {
        "id": "UH8WXH3cFEV0"
      },
      "source": [
        "You can use `sort` to order the list by the value of its elements"
      ]
    },
    {
      "cell_type": "code",
      "metadata": {
        "id": "4yilV_cXFEV1"
      },
      "source": [
        "# use .sort() method to sort list, changes original list, no returned value\n",
        "\n",
        "let_list = [\"a\", \"d\", \"v\", \"x\", \"g\"]\n",
        "\n",
        "num_list = [13,42,4,24,2,46,3,7]\n"
      ],
      "execution_count": 51,
      "outputs": []
    },
    {
      "cell_type": "code",
      "metadata": {
        "id": "fflKKO84FEV1",
        "outputId": "0de8fc45-0c15-4adf-c9ef-64cdb9a0dd52",
        "colab": {
          "base_uri": "https://localhost:8080/",
          "height": 202
        }
      },
      "source": [
        "let_list.sort(reverse= True)\n",
        "num_list.sort()\n",
        "\n",
        "sorted(let_list, reverse = True)"
      ],
      "execution_count": 52,
      "outputs": [
        {
          "output_type": "error",
          "ename": "AttributeError",
          "evalue": "ignored",
          "traceback": [
            "\u001b[0;31m---------------------------------------------------------------------------\u001b[0m",
            "\u001b[0;31mAttributeError\u001b[0m                            Traceback (most recent call last)",
            "\u001b[0;32m<ipython-input-52-2d5682f07ad2>\u001b[0m in \u001b[0;36m<module>\u001b[0;34m()\u001b[0m\n\u001b[1;32m      3\u001b[0m \u001b[0;34m\u001b[0m\u001b[0m\n\u001b[1;32m      4\u001b[0m \u001b[0msorted\u001b[0m\u001b[0;34m(\u001b[0m\u001b[0mlet_list\u001b[0m\u001b[0;34m,\u001b[0m \u001b[0mreverse\u001b[0m \u001b[0;34m=\u001b[0m \u001b[0;32mTrue\u001b[0m\u001b[0;34m)\u001b[0m\u001b[0;34m\u001b[0m\u001b[0;34m\u001b[0m\u001b[0m\n\u001b[0;32m----> 5\u001b[0;31m \u001b[0mlet_list\u001b[0m\u001b[0;34m.\u001b[0m\u001b[0msorted\u001b[0m\u001b[0;34m(\u001b[0m\u001b[0;34m)\u001b[0m\u001b[0;34m\u001b[0m\u001b[0;34m\u001b[0m\u001b[0m\n\u001b[0m",
            "\u001b[0;31mAttributeError\u001b[0m: 'list' object has no attribute 'sorted'"
          ]
        }
      ]
    },
    {
      "cell_type": "code",
      "metadata": {
        "id": "NIq5M02ZFEV1",
        "outputId": "d0d19a1d-09e1-49a2-f55a-521b6edcfe65",
        "colab": {
          "base_uri": "https://localhost:8080/"
        }
      },
      "source": [
        "print(let_list)\n",
        "print(num_list)"
      ],
      "execution_count": 41,
      "outputs": [
        {
          "output_type": "stream",
          "name": "stdout",
          "text": [
            "['x', 'v', 'g', 'd', 'a']\n",
            "[2, 3, 4, 7, 13, 24, 42, 46]\n"
          ]
        }
      ]
    },
    {
      "cell_type": "markdown",
      "metadata": {
        "id": "eWOcAyw0FEV2"
      },
      "source": [
        "If you want to order it in reverse order, you can use the `reverse` method"
      ]
    },
    {
      "cell_type": "code",
      "metadata": {
        "id": "bnPUQxDwFEV2",
        "outputId": "b8686ce7-7c0e-47ef-8c33-dd1f4cc8b3d4",
        "colab": {
          "base_uri": "https://localhost:8080/"
        }
      },
      "source": [
        "# use .reverse() method to reverse list\n",
        "num_list.reverse()\n",
        "\n",
        "print(num_list)"
      ],
      "execution_count": 26,
      "outputs": [
        {
          "output_type": "stream",
          "name": "stdout",
          "text": [
            "[46, 42, 24, 13, 7, 4, 3, 2]\n"
          ]
        }
      ]
    },
    {
      "cell_type": "markdown",
      "metadata": {
        "id": "fNEKVzDwFEV2"
      },
      "source": [
        "#### <font size=+2>`.join()`</font> "
      ]
    },
    {
      "cell_type": "markdown",
      "metadata": {
        "id": "Q_-ZEoMjFEV2"
      },
      "source": [
        "`join` is actually a string method, but it can take a list as an argument. It will put every item in the list together separated by the string to which we applied to method"
      ]
    },
    {
      "cell_type": "code",
      "metadata": {
        "id": "P4o14WIMFEV3",
        "outputId": "663c12ee-01d4-45e2-86a7-153725a8c56a",
        "colab": {
          "base_uri": "https://localhost:8080/"
        }
      },
      "source": [
        "list_of_strings = [\"This\", \"is\", \"a\", \"sentence.\"]\n",
        "\n",
        "print(\"    Random String    \".join(list_of_strings))"
      ],
      "execution_count": 27,
      "outputs": [
        {
          "output_type": "stream",
          "name": "stdout",
          "text": [
            "This    Random String    is    Random String    a    Random String    sentence.\n"
          ]
        }
      ]
    },
    {
      "cell_type": "markdown",
      "metadata": {
        "id": "MG55iWKVFEV3"
      },
      "source": [
        "#### <font size=+2>`.index()`</font> "
      ]
    },
    {
      "cell_type": "markdown",
      "metadata": {
        "id": "w0zZ2JsHFEV4"
      },
      "source": [
        "If we want to know the index of a certain element in our list, we can use the `index` method"
      ]
    },
    {
      "cell_type": "code",
      "metadata": {
        "id": "FkqZjSVDFEV4",
        "outputId": "10801e8d-7fdc-46b2-fd54-ccdf270c0411",
        "colab": {
          "base_uri": "https://localhost:8080/"
        }
      },
      "source": [
        "# my_list.remove('PAUL')\n",
        "my_list = ['John', 'Lennon', 'Paul', 'George']\n",
        "idx = my_list.index('Lennon')\n",
        "print(idx)"
      ],
      "execution_count": 28,
      "outputs": [
        {
          "output_type": "stream",
          "name": "stdout",
          "text": [
            "1\n"
          ]
        }
      ]
    },
    {
      "cell_type": "markdown",
      "metadata": {
        "id": "LBuE3SvPFEV5"
      },
      "source": [
        "Be careful! If the item is not in the list, Python will throw an error"
      ]
    },
    {
      "cell_type": "code",
      "metadata": {
        "id": "_xhic-_sFEV5"
      },
      "source": [
        "my_list = ['John', 'Lennon', 'Paul', 'George']\n",
        "idx = my_list.index('Yoko')\n",
        "print(idx)"
      ],
      "execution_count": null,
      "outputs": []
    },
    {
      "cell_type": "markdown",
      "metadata": {
        "id": "b1DrKHWyFEV5"
      },
      "source": [
        "#### Lists Exercises"
      ]
    },
    {
      "cell_type": "markdown",
      "metadata": {
        "id": "foFljxRWFEV5"
      },
      "source": [
        "### Question 1:\n",
        "Write a program that checks if the two words in a two-word string start with the same letter. <br>\n",
        "Copy-paste (and slightly modify) your code to try it for both cases."
      ]
    },
    {
      "cell_type": "code",
      "metadata": {
        "id": "BnJm2B4qFEV6",
        "outputId": "f1c82793-461c-479b-849a-474ffd97bcba",
        "colab": {
          "base_uri": "https://localhost:8080/"
        }
      },
      "source": [
        "phrase1 = 'Clean Couch'\n",
        "\n",
        "split_string = phrase1.split()\n",
        "\n",
        "split_string[0][0] == split_string[1][0]\n"
      ],
      "execution_count": 29,
      "outputs": [
        {
          "output_type": "execute_result",
          "data": {
            "text/plain": [
              "True"
            ]
          },
          "metadata": {},
          "execution_count": 29
        }
      ]
    },
    {
      "cell_type": "code",
      "metadata": {
        "id": "neg20xAzFEV6",
        "outputId": "c1758944-43ca-4395-dc30-769bc062a067",
        "colab": {
          "base_uri": "https://localhost:8080/"
        }
      },
      "source": [
        "phrase2 = 'Giant Table'\n",
        "\n",
        "split_string2 = phrase2.split()\n",
        "\n",
        "split_string2[0][0] == split_string2[1][0]\n"
      ],
      "execution_count": 31,
      "outputs": [
        {
          "output_type": "execute_result",
          "data": {
            "text/plain": [
              "False"
            ]
          },
          "metadata": {},
          "execution_count": 31
        }
      ]
    },
    {
      "cell_type": "markdown",
      "metadata": {
        "id": "g3RjpdkeFEV6"
      },
      "source": [
        "### Question 2:\n",
        "Write a program that returns a string with the __words__ reversed.\n",
        "Once again, try the same operation with both test cases."
      ]
    },
    {
      "cell_type": "code",
      "metadata": {
        "id": "9H513aU_FEV6",
        "outputId": "53b91fed-dc84-44e2-cca0-ff1f8d39c535",
        "colab": {
          "base_uri": "https://localhost:8080/"
        }
      },
      "source": [
        "my_string1 = 'This is a short phrase'\n",
        "\n",
        "print(my_string1[::-1])"
      ],
      "execution_count": 33,
      "outputs": [
        {
          "output_type": "stream",
          "name": "stdout",
          "text": [
            "esarhp trohs a si sihT\n"
          ]
        }
      ]
    },
    {
      "cell_type": "code",
      "metadata": {
        "id": "wp6hWPEyFEV7",
        "outputId": "f6032a6f-4b94-4585-a5a5-c4cffe8a35fc",
        "colab": {
          "base_uri": "https://localhost:8080/"
        }
      },
      "source": [
        "my_string2 = 'This is actually a significantly longer phrase than the previous one'\n",
        "\n",
        "print(my_string2[::-1])"
      ],
      "execution_count": 34,
      "outputs": [
        {
          "output_type": "stream",
          "name": "stdout",
          "text": [
            "eno suoiverp eht naht esarhp regnol yltnacifingis a yllautca si sihT\n"
          ]
        }
      ]
    },
    {
      "cell_type": "markdown",
      "metadata": {
        "id": "pH-C_kATFEV7"
      },
      "source": [
        "## A Brief Introduction to Sets"
      ]
    },
    {
      "cell_type": "markdown",
      "metadata": {
        "id": "JXt-RlmuFEV7"
      },
      "source": [
        "- Sets are a data type in Python.\n",
        "- They follow the rules of mathematical sets that you should already be familiar with.\n",
        "- They are mutable and unordered, and they do not contain repeated items (items are unique).\n",
        "- This means one useful usage of a set is to find all unique items in a list, as we will see\n",
        "- Sets also have their own methods, with operations derived from mathematical sets."
      ]
    },
    {
      "cell_type": "markdown",
      "metadata": {
        "id": "3GBm_-MMFEV9"
      },
      "source": [
        "We can define a set using the `set` method to cast, for example, a list into a set. If the list contained repeated elements, they will be removed in the set."
      ]
    },
    {
      "cell_type": "code",
      "metadata": {
        "id": "usfjHwKVFEV9",
        "outputId": "2885d8e0-b7c8-480b-b802-48d341878c1c"
      },
      "source": [
        "my_set = set([1, 2, 3, 4, 4, 4, 6])\n",
        "print(my_set)"
      ],
      "execution_count": null,
      "outputs": [
        {
          "name": "stdout",
          "output_type": "stream",
          "text": [
            "{1, 2, 3, 4, 6}\n"
          ]
        }
      ]
    },
    {
      "cell_type": "markdown",
      "metadata": {
        "id": "jXqVx8USFEV9"
      },
      "source": [
        "Observe above that number 4 appears only once in the set.\n",
        "\n",
        "Also, observe that sets are represented by curly brackets (`{}`). This is the second way to define a set, using curly brackets when assigning it to a variable"
      ]
    },
    {
      "cell_type": "code",
      "metadata": {
        "id": "vcnM6ox0FEV-",
        "outputId": "2a29ed48-8bbc-40d7-fd58-be1fba56d3b8"
      },
      "source": [
        "my_set = {1, 2, 3, 4, 4, 4, 6}\n",
        "print(my_set)"
      ],
      "execution_count": null,
      "outputs": [
        {
          "name": "stdout",
          "output_type": "stream",
          "text": [
            "{1, 2, 3, 4, 6}\n"
          ]
        }
      ]
    },
    {
      "cell_type": "markdown",
      "metadata": {
        "id": "i1WY_VXyFEV-"
      },
      "source": [
        "As mentioned above, sets are unordered and mutable. Mutable means that we will be able to change its content, as we will see later in this notebook\n",
        "\n",
        "Unordered means that its elements don't have a specific order, and therefore sets can't be indexed."
      ]
    },
    {
      "cell_type": "code",
      "metadata": {
        "id": "lIZ02k3XFEV-",
        "outputId": "ca32e733-3c81-4bf1-9aec-a46fd9d21e8b",
        "colab": {
          "base_uri": "https://localhost:8080/",
          "height": 185
        }
      },
      "source": [
        "# Trying to index a set\n",
        "my_set[1]"
      ],
      "execution_count": 35,
      "outputs": [
        {
          "output_type": "error",
          "ename": "NameError",
          "evalue": "ignored",
          "traceback": [
            "\u001b[0;31m---------------------------------------------------------------------------\u001b[0m",
            "\u001b[0;31mNameError\u001b[0m                                 Traceback (most recent call last)",
            "\u001b[0;32m<ipython-input-35-be0a2ad132f1>\u001b[0m in \u001b[0;36m<module>\u001b[0;34m()\u001b[0m\n\u001b[1;32m      1\u001b[0m \u001b[0;31m# Trying to index a set\u001b[0m\u001b[0;34m\u001b[0m\u001b[0;34m\u001b[0m\u001b[0;34m\u001b[0m\u001b[0m\n\u001b[0;32m----> 2\u001b[0;31m \u001b[0mmy_set\u001b[0m\u001b[0;34m[\u001b[0m\u001b[0;36m1\u001b[0m\u001b[0;34m]\u001b[0m\u001b[0;34m\u001b[0m\u001b[0;34m\u001b[0m\u001b[0m\n\u001b[0m",
            "\u001b[0;31mNameError\u001b[0m: name 'my_set' is not defined"
          ]
        }
      ]
    },
    {
      "cell_type": "markdown",
      "metadata": {
        "id": "b96zcbsnFEV-"
      },
      "source": [
        "After running the code above, we obtain a `TypeError`"
      ]
    },
    {
      "cell_type": "markdown",
      "metadata": {
        "id": "N-Ssiu-3FEV_"
      },
      "source": [
        "### Sets functions and methods"
      ]
    },
    {
      "cell_type": "markdown",
      "metadata": {
        "id": "QSwC4ZG7FEV_"
      },
      "source": [
        "We can retrieve the number of elements in a set using the `len` method, just like in a list"
      ]
    },
    {
      "cell_type": "code",
      "metadata": {
        "id": "nI9ManoaFEV_",
        "outputId": "81e8ab17-22e6-419e-ee4f-05ff649c1481",
        "colab": {
          "base_uri": "https://localhost:8080/"
        }
      },
      "source": [
        "my_set = {1, 5, 3, 6, 7, 5, 4, 5, 5, 5, 6}\n",
        "len(my_set)"
      ],
      "execution_count": 36,
      "outputs": [
        {
          "output_type": "execute_result",
          "data": {
            "text/plain": [
              "6"
            ]
          },
          "metadata": {},
          "execution_count": 36
        }
      ]
    },
    {
      "cell_type": "markdown",
      "metadata": {
        "id": "NygHskQ4FEWA"
      },
      "source": [
        "And retrieve the minimum and maximum value in the set using the `min` and the `max` functions"
      ]
    },
    {
      "cell_type": "code",
      "metadata": {
        "id": "7x4FWj1KFEWA",
        "outputId": "a03d440e-5381-4fab-e3a9-c172c1e670df",
        "colab": {
          "base_uri": "https://localhost:8080/"
        }
      },
      "source": [
        "min(my_set)"
      ],
      "execution_count": 37,
      "outputs": [
        {
          "output_type": "execute_result",
          "data": {
            "text/plain": [
              "1"
            ]
          },
          "metadata": {},
          "execution_count": 37
        }
      ]
    },
    {
      "cell_type": "markdown",
      "metadata": {
        "id": "2B_GjHplFEWD"
      },
      "source": [
        "#### <font size=+2>`.add()`</font>"
      ]
    },
    {
      "cell_type": "markdown",
      "metadata": {
        "id": "RyQXKOl8FEWD"
      },
      "source": [
        "`add` (as the name suggests) adds an item to the set. As mentioned, sets are unordered, so it doesn't matter where we add it"
      ]
    },
    {
      "cell_type": "code",
      "metadata": {
        "id": "EsDYMv69FEWE",
        "outputId": "24017887-2ee6-4680-c925-73d6030a5274"
      },
      "source": [
        "set_x = set()\n",
        "\n",
        "print(set_x)\n",
        "\n",
        "set_x.add(1)\n",
        "\n",
        "print(set_x)\n",
        "\n",
        "set_x.add(2)\n",
        "\n",
        "print(set_x)\n",
        "\n",
        "# if we add 2 again, we see the set does not change, as items in a set are unique\n",
        "\n",
        "set_x.add(2)\n",
        "\n",
        "print(set_x)"
      ],
      "execution_count": null,
      "outputs": [
        {
          "name": "stdout",
          "output_type": "stream",
          "text": [
            "set()\n",
            "{1}\n",
            "{1, 2}\n",
            "{1, 2}\n"
          ]
        }
      ]
    },
    {
      "cell_type": "markdown",
      "metadata": {
        "id": "eExcZkniFEWE"
      },
      "source": [
        "#### <font size=+1>Mathematical Operations on Sets</font>"
      ]
    },
    {
      "cell_type": "markdown",
      "metadata": {
        "id": "s3hOguf_FEWE"
      },
      "source": [
        "Sets in Python share the same principles as sets in maths, so you can use the same operations. \n",
        "\n",
        "The most common ones are `Union`, `Intersection`, `Difference`, and `Symmetric Difference`"
      ]
    },
    {
      "cell_type": "markdown",
      "metadata": {
        "id": "-kzpy0PJFEWF"
      },
      "source": [
        "<p align=center><img src=https://github.com/life-efficient/Essentials/blob/main/2.%20Python%20programming/2.%20Lists%20and%20Sets/images/sets.png?raw=1 width=400></p>"
      ]
    },
    {
      "cell_type": "markdown",
      "metadata": {
        "id": "kx24wSB6FEWF"
      },
      "source": [
        "#### <font size=+2>`.union()`</font>"
      ]
    },
    {
      "cell_type": "markdown",
      "metadata": {
        "id": "qiwGhzU0FEWF"
      },
      "source": [
        "`union` essentially takes one set and it will add all its elements to another set"
      ]
    },
    {
      "cell_type": "code",
      "metadata": {
        "id": "DZz1JeBDFEWF",
        "outputId": "dc981d44-bbf0-4b72-bfaf-423f6af693b7"
      },
      "source": [
        "set_1 = {'Dog', 'Cat', 'Platypus', 'Koala'}\n",
        "set_2 = {'Crocodile', 'Hyena', 'Koala', 'Cat'}\n",
        "print(set_1)\n",
        "print(set_2)\n",
        "union_set = set_1.union(set_2)\n",
        "print(union_set)"
      ],
      "execution_count": null,
      "outputs": [
        {
          "name": "stdout",
          "output_type": "stream",
          "text": [
            "{'Platypus', 'Koala', 'Dog', 'Cat'}\n",
            "{'Crocodile', 'Koala', 'Hyena', 'Cat'}\n",
            "{'Platypus', 'Crocodile', 'Dog', 'Koala', 'Hyena', 'Cat'}\n"
          ]
        }
      ]
    },
    {
      "cell_type": "markdown",
      "metadata": {
        "id": "6tRLJeH7FEWG"
      },
      "source": [
        "Once again, the obtained set doesn't contain repeated values"
      ]
    },
    {
      "cell_type": "markdown",
      "metadata": {
        "id": "ZZi3_qb7FEWH"
      },
      "source": [
        "#### <font size=+2>`.intersection()`</font>"
      ]
    },
    {
      "cell_type": "markdown",
      "metadata": {
        "id": "S6JzdHNFFEWH"
      },
      "source": [
        "`intersection` returns a set containing the items common in both sets"
      ]
    },
    {
      "cell_type": "code",
      "metadata": {
        "id": "p5Yz0tEXFEWH",
        "outputId": "67b35c65-105b-4567-bbf7-e4c8542a4389"
      },
      "source": [
        "inter_set = set_1.intersection(set_2)\n",
        "print(inter_set)"
      ],
      "execution_count": null,
      "outputs": [
        {
          "name": "stdout",
          "output_type": "stream",
          "text": [
            "{'Koala', 'Cat'}\n"
          ]
        }
      ]
    },
    {
      "cell_type": "markdown",
      "metadata": {
        "id": "Rzk-KpFoFEWH"
      },
      "source": [
        "#### <font size=+2>`.difference()`</font>"
      ]
    },
    {
      "cell_type": "markdown",
      "metadata": {
        "id": "VcqMrkvSFEWH"
      },
      "source": [
        "`difference` returns a set with the items that are in `set_1` but not in `set_2`"
      ]
    },
    {
      "cell_type": "code",
      "metadata": {
        "id": "iW4yuJpEFEWI"
      },
      "source": [
        "# a.difference(b) returns the items in a that are NOT in b\n",
        "differ_set = set_1.difference(set_2)\n",
        "print(differ_set)"
      ],
      "execution_count": null,
      "outputs": []
    },
    {
      "cell_type": "markdown",
      "metadata": {
        "id": "ULeu6VaQFEWI"
      },
      "source": [
        "#### <font size=+2>`.symmetric_difference()`</font>"
      ]
    },
    {
      "cell_type": "markdown",
      "metadata": {
        "id": "Nd-I49QNFEWI"
      },
      "source": [
        "`symmetric_difference` returns a set with the items that are in `set_1` and `set_2`, but without the items that are in BOTH"
      ]
    },
    {
      "cell_type": "code",
      "metadata": {
        "id": "c6V8uaZLFEWI",
        "outputId": "05f8e20d-ab55-420c-a809-ee651e6d844f"
      },
      "source": [
        "differ_set = set_1.symmetric_difference(set_2)\n",
        "print(differ_set)"
      ],
      "execution_count": null,
      "outputs": [
        {
          "name": "stdout",
          "output_type": "stream",
          "text": [
            "{'Crocodile', 'Platypus', 'Dog', 'Hyena'}\n"
          ]
        }
      ]
    },
    {
      "cell_type": "markdown",
      "metadata": {
        "id": "Y1TiXt9pFEWI"
      },
      "source": [
        "## Summary\n",
        "We now understand:\n",
        "- The nature of lists, and sets.\n",
        "- The basic concept of mutability.\n",
        "<br><br>\n",
        "\n",
        "We now know:\n",
        "- How to index and slice lists.\n",
        "- List functions and methods including len(), .append(), .extend() etc.\n",
        "- How to use a set to find the unique values in a list.\n",
        "\n",
        "<br>\n",
        "\n",
        "Please use this notebook as a reference, and refer to the links below for more information.\n",
        "\n",
        "## Further reading\n",
        "- List methods: https://docs.python.org/3/tutorial/datastructures.html\n",
        "- Sets: https://docs.python.org/3/library/stdtypes.html#set"
      ]
    }
  ]
}